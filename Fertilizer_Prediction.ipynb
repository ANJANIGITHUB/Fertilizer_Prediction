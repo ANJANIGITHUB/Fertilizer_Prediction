{
 "cells": [
  {
   "cell_type": "markdown",
   "metadata": {},
   "source": [
    "### This is Fertilizer Prediction Model\n"
   ]
  },
  {
   "cell_type": "code",
   "execution_count": 1,
   "metadata": {},
   "outputs": [],
   "source": [
    "#Name : Anjani Kumar\n",
    "#Role : Data Scientist"
   ]
  },
  {
   "cell_type": "markdown",
   "metadata": {},
   "source": [
    "### Import required libraries"
   ]
  },
  {
   "cell_type": "code",
   "execution_count": 2,
   "metadata": {},
   "outputs": [],
   "source": [
    "import pandas as pd\n",
    "import numpy as np\n",
    "import seaborn as sns\n",
    "import matplotlib.pyplot as plt\n",
    "from sklearn.metrics import confusion_matrix,accuracy_score,precision_score,recall_score\n",
    "from sklearn.preprocessing import LabelEncoder\n",
    "from sklearn.model_selection import cross_val_score,cross_val_predict,train_test_split\n",
    "from sklearn.model_selection import train_test_split\n",
    "from sklearn.metrics import roc_curve\n",
    "from sklearn.metrics import roc_auc_score\n",
    "from sklearn.preprocessing import StandardScaler\n",
    "import matplotlib.pyplot as plt\n",
    "import pickle\n",
    "import warnings\n",
    "warnings.filterwarnings(\"ignore\",category=FutureWarning)\n"
   ]
  },
  {
   "cell_type": "code",
   "execution_count": 3,
   "metadata": {},
   "outputs": [
    {
     "name": "stderr",
     "output_type": "stream",
     "text": [
      "Using TensorFlow backend.\n"
     ]
    }
   ],
   "source": [
    "import keras\n",
    "from keras.models import Sequential\n",
    "from keras.layers import Dense\n",
    "from keras.layers import LeakyReLU,PReLU,ELU\n",
    "from keras.layers import Dropout\n"
   ]
  },
  {
   "cell_type": "markdown",
   "metadata": {},
   "source": [
    "### Load Data"
   ]
  },
  {
   "cell_type": "code",
   "execution_count": 4,
   "metadata": {},
   "outputs": [],
   "source": [
    "data=pd.read_excel('Fertilizer_Prediction.xlsx',skiprows=1)"
   ]
  },
  {
   "cell_type": "code",
   "execution_count": 5,
   "metadata": {},
   "outputs": [
    {
     "data": {
      "text/html": [
       "<div>\n",
       "<style scoped>\n",
       "    .dataframe tbody tr th:only-of-type {\n",
       "        vertical-align: middle;\n",
       "    }\n",
       "\n",
       "    .dataframe tbody tr th {\n",
       "        vertical-align: top;\n",
       "    }\n",
       "\n",
       "    .dataframe thead th {\n",
       "        text-align: right;\n",
       "    }\n",
       "</style>\n",
       "<table border=\"1\" class=\"dataframe\">\n",
       "  <thead>\n",
       "    <tr style=\"text-align: right;\">\n",
       "      <th></th>\n",
       "      <th>Temparature</th>\n",
       "      <th>Humidity</th>\n",
       "      <th>Moisture</th>\n",
       "      <th>Soil Type</th>\n",
       "      <th>Crop Type</th>\n",
       "      <th>Nitrogen</th>\n",
       "      <th>Potassium</th>\n",
       "      <th>Phosphorous</th>\n",
       "      <th>Fertilizer Name</th>\n",
       "    </tr>\n",
       "  </thead>\n",
       "  <tbody>\n",
       "    <tr>\n",
       "      <th>0</th>\n",
       "      <td>26</td>\n",
       "      <td>52</td>\n",
       "      <td>38</td>\n",
       "      <td>Sandy</td>\n",
       "      <td>Maize</td>\n",
       "      <td>37</td>\n",
       "      <td>0</td>\n",
       "      <td>0</td>\n",
       "      <td>Urea</td>\n",
       "    </tr>\n",
       "    <tr>\n",
       "      <th>1</th>\n",
       "      <td>29</td>\n",
       "      <td>52</td>\n",
       "      <td>45</td>\n",
       "      <td>Loamy</td>\n",
       "      <td>Sugarcane</td>\n",
       "      <td>12</td>\n",
       "      <td>0</td>\n",
       "      <td>36</td>\n",
       "      <td>DAP</td>\n",
       "    </tr>\n",
       "    <tr>\n",
       "      <th>2</th>\n",
       "      <td>34</td>\n",
       "      <td>65</td>\n",
       "      <td>62</td>\n",
       "      <td>Black</td>\n",
       "      <td>Cotton</td>\n",
       "      <td>7</td>\n",
       "      <td>9</td>\n",
       "      <td>30</td>\n",
       "      <td>14-35-14</td>\n",
       "    </tr>\n",
       "    <tr>\n",
       "      <th>3</th>\n",
       "      <td>32</td>\n",
       "      <td>62</td>\n",
       "      <td>34</td>\n",
       "      <td>Red</td>\n",
       "      <td>Tobacco</td>\n",
       "      <td>22</td>\n",
       "      <td>0</td>\n",
       "      <td>20</td>\n",
       "      <td>28-28</td>\n",
       "    </tr>\n",
       "    <tr>\n",
       "      <th>4</th>\n",
       "      <td>28</td>\n",
       "      <td>54</td>\n",
       "      <td>46</td>\n",
       "      <td>Clayey</td>\n",
       "      <td>Paddy</td>\n",
       "      <td>35</td>\n",
       "      <td>0</td>\n",
       "      <td>0</td>\n",
       "      <td>Urea</td>\n",
       "    </tr>\n",
       "  </tbody>\n",
       "</table>\n",
       "</div>"
      ],
      "text/plain": [
       "   Temparature  Humidity   Moisture Soil Type  Crop Type  Nitrogen  Potassium  \\\n",
       "0           26         52        38     Sandy      Maize        37          0   \n",
       "1           29         52        45     Loamy  Sugarcane        12          0   \n",
       "2           34         65        62     Black     Cotton         7          9   \n",
       "3           32         62        34       Red    Tobacco        22          0   \n",
       "4           28         54        46    Clayey      Paddy        35          0   \n",
       "\n",
       "   Phosphorous Fertilizer Name  \n",
       "0            0            Urea  \n",
       "1           36             DAP  \n",
       "2           30        14-35-14  \n",
       "3           20           28-28  \n",
       "4            0            Urea  "
      ]
     },
     "execution_count": 5,
     "metadata": {},
     "output_type": "execute_result"
    }
   ],
   "source": [
    "data.head()"
   ]
  },
  {
   "cell_type": "markdown",
   "metadata": {},
   "source": [
    "# Exploratory Data Analysis"
   ]
  },
  {
   "cell_type": "code",
   "execution_count": 6,
   "metadata": {},
   "outputs": [
    {
     "data": {
      "text/html": [
       "<div>\n",
       "<style scoped>\n",
       "    .dataframe tbody tr th:only-of-type {\n",
       "        vertical-align: middle;\n",
       "    }\n",
       "\n",
       "    .dataframe tbody tr th {\n",
       "        vertical-align: top;\n",
       "    }\n",
       "\n",
       "    .dataframe thead th {\n",
       "        text-align: right;\n",
       "    }\n",
       "</style>\n",
       "<table border=\"1\" class=\"dataframe\">\n",
       "  <thead>\n",
       "    <tr style=\"text-align: right;\">\n",
       "      <th></th>\n",
       "      <th>Temparature</th>\n",
       "      <th>Humidity</th>\n",
       "      <th>Moisture</th>\n",
       "      <th>Nitrogen</th>\n",
       "      <th>Potassium</th>\n",
       "      <th>Phosphorous</th>\n",
       "    </tr>\n",
       "  </thead>\n",
       "  <tbody>\n",
       "    <tr>\n",
       "      <th>count</th>\n",
       "      <td>99.000000</td>\n",
       "      <td>99.000000</td>\n",
       "      <td>99.000000</td>\n",
       "      <td>99.000000</td>\n",
       "      <td>99.000000</td>\n",
       "      <td>99.000000</td>\n",
       "    </tr>\n",
       "    <tr>\n",
       "      <th>mean</th>\n",
       "      <td>30.282828</td>\n",
       "      <td>59.151515</td>\n",
       "      <td>43.181818</td>\n",
       "      <td>18.909091</td>\n",
       "      <td>3.383838</td>\n",
       "      <td>18.606061</td>\n",
       "    </tr>\n",
       "    <tr>\n",
       "      <th>std</th>\n",
       "      <td>3.502304</td>\n",
       "      <td>5.840331</td>\n",
       "      <td>11.271568</td>\n",
       "      <td>11.599693</td>\n",
       "      <td>5.814667</td>\n",
       "      <td>13.476978</td>\n",
       "    </tr>\n",
       "    <tr>\n",
       "      <th>min</th>\n",
       "      <td>25.000000</td>\n",
       "      <td>50.000000</td>\n",
       "      <td>25.000000</td>\n",
       "      <td>4.000000</td>\n",
       "      <td>0.000000</td>\n",
       "      <td>0.000000</td>\n",
       "    </tr>\n",
       "    <tr>\n",
       "      <th>25%</th>\n",
       "      <td>28.000000</td>\n",
       "      <td>54.000000</td>\n",
       "      <td>34.000000</td>\n",
       "      <td>10.000000</td>\n",
       "      <td>0.000000</td>\n",
       "      <td>9.000000</td>\n",
       "    </tr>\n",
       "    <tr>\n",
       "      <th>50%</th>\n",
       "      <td>30.000000</td>\n",
       "      <td>60.000000</td>\n",
       "      <td>41.000000</td>\n",
       "      <td>13.000000</td>\n",
       "      <td>0.000000</td>\n",
       "      <td>19.000000</td>\n",
       "    </tr>\n",
       "    <tr>\n",
       "      <th>75%</th>\n",
       "      <td>33.000000</td>\n",
       "      <td>64.000000</td>\n",
       "      <td>50.500000</td>\n",
       "      <td>24.000000</td>\n",
       "      <td>7.500000</td>\n",
       "      <td>30.000000</td>\n",
       "    </tr>\n",
       "    <tr>\n",
       "      <th>max</th>\n",
       "      <td>38.000000</td>\n",
       "      <td>72.000000</td>\n",
       "      <td>65.000000</td>\n",
       "      <td>42.000000</td>\n",
       "      <td>19.000000</td>\n",
       "      <td>42.000000</td>\n",
       "    </tr>\n",
       "  </tbody>\n",
       "</table>\n",
       "</div>"
      ],
      "text/plain": [
       "       Temparature  Humidity    Moisture   Nitrogen  Potassium  Phosphorous\n",
       "count    99.000000  99.000000  99.000000  99.000000  99.000000    99.000000\n",
       "mean     30.282828  59.151515  43.181818  18.909091   3.383838    18.606061\n",
       "std       3.502304   5.840331  11.271568  11.599693   5.814667    13.476978\n",
       "min      25.000000  50.000000  25.000000   4.000000   0.000000     0.000000\n",
       "25%      28.000000  54.000000  34.000000  10.000000   0.000000     9.000000\n",
       "50%      30.000000  60.000000  41.000000  13.000000   0.000000    19.000000\n",
       "75%      33.000000  64.000000  50.500000  24.000000   7.500000    30.000000\n",
       "max      38.000000  72.000000  65.000000  42.000000  19.000000    42.000000"
      ]
     },
     "execution_count": 6,
     "metadata": {},
     "output_type": "execute_result"
    }
   ],
   "source": [
    "#Describe Data for Count/Mean/Median/Mode/Standard Deviation/IQR\n",
    "data.describe()"
   ]
  },
  {
   "cell_type": "code",
   "execution_count": 7,
   "metadata": {},
   "outputs": [
    {
     "data": {
      "text/plain": [
       "Temparature         int64\n",
       "Humidity            int64\n",
       "Moisture            int64\n",
       "Soil Type          object\n",
       "Crop Type          object\n",
       "Nitrogen            int64\n",
       "Potassium           int64\n",
       "Phosphorous         int64\n",
       "Fertilizer Name    object\n",
       "dtype: object"
      ]
     },
     "execution_count": 7,
     "metadata": {},
     "output_type": "execute_result"
    }
   ],
   "source": [
    "#Check Datatypes\n",
    "data.dtypes"
   ]
  },
  {
   "cell_type": "code",
   "execution_count": 8,
   "metadata": {},
   "outputs": [
    {
     "data": {
      "text/plain": [
       "Fertilizer Name    0\n",
       "Phosphorous        0\n",
       "Potassium          0\n",
       "Nitrogen           0\n",
       "Crop Type          0\n",
       "Soil Type          0\n",
       "Moisture           0\n",
       "Humidity           0\n",
       "Temparature        0\n",
       "dtype: int64"
      ]
     },
     "execution_count": 8,
     "metadata": {},
     "output_type": "execute_result"
    }
   ],
   "source": [
    "#Check for Null Values in each feature\n",
    "data.isnull().sum().sort_values(ascending = False)"
   ]
  },
  {
   "cell_type": "markdown",
   "metadata": {},
   "source": [
    "### Outlier Detection"
   ]
  },
  {
   "cell_type": "code",
   "execution_count": 9,
   "metadata": {},
   "outputs": [
    {
     "data": {
      "image/png": "[encoded data removed]",
      "text/plain": [
       "<Figure size 1800x1440 with 1 Axes>"
      ]
     },
     "metadata": {
      "needs_background": "light"
     },
     "output_type": "display_data"
    }
   ],
   "source": [
    "plt.figure(figsize=(25,20))\n",
    "bplot = sns.boxplot( data=data, \n",
    "                      color='red')\n",
    "bplot\n",
    "plt.show()"
   ]
  },
  {
   "cell_type": "markdown",
   "metadata": {},
   "source": [
    "### Outlier Removal"
   ]
  },
  {
   "cell_type": "code",
   "execution_count": 10,
   "metadata": {},
   "outputs": [],
   "source": [
    "from pandas.api.types import is_numeric_dtype\n",
    "def remove_outlier(df):\n",
    "    low = .05\n",
    "    high = .95\n",
    "    quant_df = df.quantile([low, high])\n",
    "    for name in list(df.columns):\n",
    "        if is_numeric_dtype(df[name]):\n",
    "            df = df[(df[name] > quant_df.loc[low, name]) \n",
    "               & (df[name] < quant_df.loc[high, name])]\n",
    "            return df\n",
    "    #remove_outlier(df).head()"
   ]
  },
  {
   "cell_type": "code",
   "execution_count": 11,
   "metadata": {},
   "outputs": [],
   "source": [
    "data=remove_outlier(data)"
   ]
  },
  {
   "cell_type": "code",
   "execution_count": 12,
   "metadata": {},
   "outputs": [
    {
     "data": {
      "text/plain": [
       "Temparature        82\n",
       "Humidity           82\n",
       "Moisture           82\n",
       "Soil Type          82\n",
       "Crop Type          82\n",
       "Nitrogen           82\n",
       "Potassium          82\n",
       "Phosphorous        82\n",
       "Fertilizer Name    82\n",
       "dtype: int64"
      ]
     },
     "execution_count": 12,
     "metadata": {},
     "output_type": "execute_result"
    }
   ],
   "source": [
    "data.count()"
   ]
  },
  {
   "cell_type": "markdown",
   "metadata": {},
   "source": [
    "### Independent Features used for Prediction"
   ]
  },
  {
   "cell_type": "code",
   "execution_count": 13,
   "metadata": {},
   "outputs": [],
   "source": [
    "data_X=data.iloc[:,:-1]"
   ]
  },
  {
   "cell_type": "code",
   "execution_count": 14,
   "metadata": {},
   "outputs": [
    {
     "data": {
      "text/html": [
       "<div>\n",
       "<style scoped>\n",
       "    .dataframe tbody tr th:only-of-type {\n",
       "        vertical-align: middle;\n",
       "    }\n",
       "\n",
       "    .dataframe tbody tr th {\n",
       "        vertical-align: top;\n",
       "    }\n",
       "\n",
       "    .dataframe thead th {\n",
       "        text-align: right;\n",
       "    }\n",
       "</style>\n",
       "<table border=\"1\" class=\"dataframe\">\n",
       "  <thead>\n",
       "    <tr style=\"text-align: right;\">\n",
       "      <th></th>\n",
       "      <th>Temparature</th>\n",
       "      <th>Humidity</th>\n",
       "      <th>Moisture</th>\n",
       "      <th>Soil Type</th>\n",
       "      <th>Crop Type</th>\n",
       "      <th>Nitrogen</th>\n",
       "      <th>Potassium</th>\n",
       "      <th>Phosphorous</th>\n",
       "    </tr>\n",
       "  </thead>\n",
       "  <tbody>\n",
       "    <tr>\n",
       "      <th>0</th>\n",
       "      <td>26</td>\n",
       "      <td>52</td>\n",
       "      <td>38</td>\n",
       "      <td>Sandy</td>\n",
       "      <td>Maize</td>\n",
       "      <td>37</td>\n",
       "      <td>0</td>\n",
       "      <td>0</td>\n",
       "    </tr>\n",
       "    <tr>\n",
       "      <th>1</th>\n",
       "      <td>29</td>\n",
       "      <td>52</td>\n",
       "      <td>45</td>\n",
       "      <td>Loamy</td>\n",
       "      <td>Sugarcane</td>\n",
       "      <td>12</td>\n",
       "      <td>0</td>\n",
       "      <td>36</td>\n",
       "    </tr>\n",
       "    <tr>\n",
       "      <th>2</th>\n",
       "      <td>34</td>\n",
       "      <td>65</td>\n",
       "      <td>62</td>\n",
       "      <td>Black</td>\n",
       "      <td>Cotton</td>\n",
       "      <td>7</td>\n",
       "      <td>9</td>\n",
       "      <td>30</td>\n",
       "    </tr>\n",
       "    <tr>\n",
       "      <th>3</th>\n",
       "      <td>32</td>\n",
       "      <td>62</td>\n",
       "      <td>34</td>\n",
       "      <td>Red</td>\n",
       "      <td>Tobacco</td>\n",
       "      <td>22</td>\n",
       "      <td>0</td>\n",
       "      <td>20</td>\n",
       "    </tr>\n",
       "    <tr>\n",
       "      <th>4</th>\n",
       "      <td>28</td>\n",
       "      <td>54</td>\n",
       "      <td>46</td>\n",
       "      <td>Clayey</td>\n",
       "      <td>Paddy</td>\n",
       "      <td>35</td>\n",
       "      <td>0</td>\n",
       "      <td>0</td>\n",
       "    </tr>\n",
       "  </tbody>\n",
       "</table>\n",
       "</div>"
      ],
      "text/plain": [
       "   Temparature  Humidity   Moisture Soil Type  Crop Type  Nitrogen  Potassium  \\\n",
       "0           26         52        38     Sandy      Maize        37          0   \n",
       "1           29         52        45     Loamy  Sugarcane        12          0   \n",
       "2           34         65        62     Black     Cotton         7          9   \n",
       "3           32         62        34       Red    Tobacco        22          0   \n",
       "4           28         54        46    Clayey      Paddy        35          0   \n",
       "\n",
       "   Phosphorous  \n",
       "0            0  \n",
       "1           36  \n",
       "2           30  \n",
       "3           20  \n",
       "4            0  "
      ]
     },
     "execution_count": 14,
     "metadata": {},
     "output_type": "execute_result"
    }
   ],
   "source": [
    "data_X.head()"
   ]
  },
  {
   "cell_type": "markdown",
   "metadata": {},
   "source": [
    "### Dependent Feature"
   ]
  },
  {
   "cell_type": "code",
   "execution_count": 15,
   "metadata": {},
   "outputs": [],
   "source": [
    "data_y=data.iloc[:,-1]"
   ]
  },
  {
   "cell_type": "code",
   "execution_count": 16,
   "metadata": {},
   "outputs": [
    {
     "data": {
      "text/plain": [
       "0        Urea\n",
       "1         DAP\n",
       "2    14-35-14\n",
       "3       28-28\n",
       "4        Urea\n",
       "Name: Fertilizer Name, dtype: object"
      ]
     },
     "execution_count": 16,
     "metadata": {},
     "output_type": "execute_result"
    }
   ],
   "source": [
    "data_y.head()"
   ]
  },
  {
   "cell_type": "code",
   "execution_count": 17,
   "metadata": {},
   "outputs": [
    {
     "data": {
      "text/plain": [
       "(82, 8)"
      ]
     },
     "execution_count": 17,
     "metadata": {},
     "output_type": "execute_result"
    }
   ],
   "source": [
    "#Shape of Independent features\n",
    "data_X.shape"
   ]
  },
  {
   "cell_type": "code",
   "execution_count": 18,
   "metadata": {},
   "outputs": [
    {
     "data": {
      "text/plain": [
       "(82,)"
      ]
     },
     "execution_count": 18,
     "metadata": {},
     "output_type": "execute_result"
    }
   ],
   "source": [
    "#Shape of Dependent features\n",
    "data_y.shape"
   ]
  },
  {
   "cell_type": "markdown",
   "metadata": {},
   "source": [
    "### Convert Categorical Variable 'Soil Type' and 'Crop Type' to Numeric"
   ]
  },
  {
   "cell_type": "code",
   "execution_count": 19,
   "metadata": {},
   "outputs": [],
   "source": [
    "data_X=pd.get_dummies(data_X,columns=['Soil Type'])"
   ]
  },
  {
   "cell_type": "code",
   "execution_count": 20,
   "metadata": {},
   "outputs": [],
   "source": [
    "data_X=pd.get_dummies(data_X,columns=['Crop Type'])"
   ]
  },
  {
   "cell_type": "code",
   "execution_count": 21,
   "metadata": {},
   "outputs": [
    {
     "data": {
      "text/plain": [
       "Index(['Temparature', 'Humidity ', 'Moisture', 'Nitrogen', 'Potassium',\n",
       "       'Phosphorous', 'Soil Type_Black', 'Soil Type_Clayey', 'Soil Type_Loamy',\n",
       "       'Soil Type_Red', 'Soil Type_Sandy', 'Crop Type_Barley',\n",
       "       'Crop Type_Cotton', 'Crop Type_Ground Nuts', 'Crop Type_Maize',\n",
       "       'Crop Type_Millets', 'Crop Type_Oil seeds', 'Crop Type_Paddy',\n",
       "       'Crop Type_Pulses', 'Crop Type_Sugarcane', 'Crop Type_Tobacco',\n",
       "       'Crop Type_Wheat'],\n",
       "      dtype='object')"
      ]
     },
     "execution_count": 21,
     "metadata": {},
     "output_type": "execute_result"
    }
   ],
   "source": [
    "data_X.columns"
   ]
  },
  {
   "cell_type": "markdown",
   "metadata": {},
   "source": [
    "### Label Encoder to encode Target Variable"
   ]
  },
  {
   "cell_type": "code",
   "execution_count": 22,
   "metadata": {},
   "outputs": [],
   "source": [
    "#data_y.unique() "
   ]
  },
  {
   "cell_type": "code",
   "execution_count": 23,
   "metadata": {},
   "outputs": [],
   "source": [
    "# lst=[]\n",
    "# encode_val={'Urea':1,'DAP':2,'14-35-14':3,'28-28':4,'17-17-17':5,'20-20':6,'10-26-26':7}\n",
    "# def label_enc(data):\n",
    "#     for val in data:\n",
    "#         if val in encode_val.keys():\n",
    "#             lst.append(encode_val[val])\n",
    "# label_enc(data_y)"
   ]
  },
  {
   "cell_type": "code",
   "execution_count": 24,
   "metadata": {},
   "outputs": [],
   "source": [
    "# data_y=pd.DataFrame(lst,columns=['Fertilizer_Name'])"
   ]
  },
  {
   "cell_type": "code",
   "execution_count": 25,
   "metadata": {},
   "outputs": [],
   "source": [
    "# data_y.head()"
   ]
  },
  {
   "cell_type": "code",
   "execution_count": 26,
   "metadata": {},
   "outputs": [],
   "source": [
    "le=LabelEncoder()"
   ]
  },
  {
   "cell_type": "code",
   "execution_count": 27,
   "metadata": {},
   "outputs": [],
   "source": [
    "data_y=le.fit_transform(data_y)"
   ]
  },
  {
   "cell_type": "code",
   "execution_count": 28,
   "metadata": {},
   "outputs": [],
   "source": [
    "data_y=pd.DataFrame(data_y,columns=['Fertilizer_Name'])"
   ]
  },
  {
   "cell_type": "code",
   "execution_count": 29,
   "metadata": {},
   "outputs": [
    {
     "data": {
      "text/html": [
       "<div>\n",
       "<style scoped>\n",
       "    .dataframe tbody tr th:only-of-type {\n",
       "        vertical-align: middle;\n",
       "    }\n",
       "\n",
       "    .dataframe tbody tr th {\n",
       "        vertical-align: top;\n",
       "    }\n",
       "\n",
       "    .dataframe thead th {\n",
       "        text-align: right;\n",
       "    }\n",
       "</style>\n",
       "<table border=\"1\" class=\"dataframe\">\n",
       "  <thead>\n",
       "    <tr style=\"text-align: right;\">\n",
       "      <th></th>\n",
       "      <th>Fertilizer_Name</th>\n",
       "    </tr>\n",
       "  </thead>\n",
       "  <tbody>\n",
       "    <tr>\n",
       "      <th>0</th>\n",
       "      <td>6</td>\n",
       "    </tr>\n",
       "    <tr>\n",
       "      <th>1</th>\n",
       "      <td>5</td>\n",
       "    </tr>\n",
       "    <tr>\n",
       "      <th>2</th>\n",
       "      <td>1</td>\n",
       "    </tr>\n",
       "    <tr>\n",
       "      <th>3</th>\n",
       "      <td>4</td>\n",
       "    </tr>\n",
       "    <tr>\n",
       "      <th>4</th>\n",
       "      <td>6</td>\n",
       "    </tr>\n",
       "  </tbody>\n",
       "</table>\n",
       "</div>"
      ],
      "text/plain": [
       "   Fertilizer_Name\n",
       "0                6\n",
       "1                5\n",
       "2                1\n",
       "3                4\n",
       "4                6"
      ]
     },
     "execution_count": 29,
     "metadata": {},
     "output_type": "execute_result"
    }
   ],
   "source": [
    "data_y.head()"
   ]
  },
  {
   "cell_type": "code",
   "execution_count": 30,
   "metadata": {},
   "outputs": [
    {
     "data": {
      "text/plain": [
       "Fertilizer_Name    7\n",
       "dtype: int64"
      ]
     },
     "execution_count": 30,
     "metadata": {},
     "output_type": "execute_result"
    }
   ],
   "source": [
    "data_y.nunique()"
   ]
  },
  {
   "cell_type": "code",
   "execution_count": 31,
   "metadata": {},
   "outputs": [
    {
     "data": {
      "text/html": [
       "<div>\n",
       "<style scoped>\n",
       "    .dataframe tbody tr th:only-of-type {\n",
       "        vertical-align: middle;\n",
       "    }\n",
       "\n",
       "    .dataframe tbody tr th {\n",
       "        vertical-align: top;\n",
       "    }\n",
       "\n",
       "    .dataframe thead th {\n",
       "        text-align: right;\n",
       "    }\n",
       "</style>\n",
       "<table border=\"1\" class=\"dataframe\">\n",
       "  <thead>\n",
       "    <tr style=\"text-align: right;\">\n",
       "      <th></th>\n",
       "    </tr>\n",
       "    <tr>\n",
       "      <th>Fertilizer_Name</th>\n",
       "    </tr>\n",
       "  </thead>\n",
       "  <tbody>\n",
       "    <tr>\n",
       "      <th>0</th>\n",
       "    </tr>\n",
       "    <tr>\n",
       "      <th>1</th>\n",
       "    </tr>\n",
       "    <tr>\n",
       "      <th>2</th>\n",
       "    </tr>\n",
       "    <tr>\n",
       "      <th>3</th>\n",
       "    </tr>\n",
       "    <tr>\n",
       "      <th>4</th>\n",
       "    </tr>\n",
       "    <tr>\n",
       "      <th>5</th>\n",
       "    </tr>\n",
       "    <tr>\n",
       "      <th>6</th>\n",
       "    </tr>\n",
       "  </tbody>\n",
       "</table>\n",
       "</div>"
      ],
      "text/plain": [
       "Empty DataFrame\n",
       "Columns: []\n",
       "Index: [0, 1, 2, 3, 4, 5, 6]"
      ]
     },
     "execution_count": 31,
     "metadata": {},
     "output_type": "execute_result"
    }
   ],
   "source": [
    "data_y.groupby(by='Fertilizer_Name').count()"
   ]
  },
  {
   "cell_type": "code",
   "execution_count": 32,
   "metadata": {},
   "outputs": [
    {
     "data": {
      "image/png": "[encoded data removed]",
      "text/plain": [
       "<Figure size 432x288 with 1 Axes>"
      ]
     },
     "metadata": {
      "needs_background": "light"
     },
     "output_type": "display_data"
    }
   ],
   "source": [
    "data_y.hist(bins=7)\n",
    "plt.show()"
   ]
  },
  {
   "cell_type": "code",
   "execution_count": 33,
   "metadata": {},
   "outputs": [
    {
     "data": {
      "image/png": "[encoded data removed]",
      "text/plain": [
       "<Figure size 432x288 with 1 Axes>"
      ]
     },
     "metadata": {
      "needs_background": "light"
     },
     "output_type": "display_data"
    }
   ],
   "source": [
    "data.groupby('Fertilizer Name').count().plot.bar()\n",
    "plt.show()"
   ]
  },
  {
   "cell_type": "markdown",
   "metadata": {},
   "source": [
    "### Create Correlation DataFrame"
   ]
  },
  {
   "cell_type": "code",
   "execution_count": 34,
   "metadata": {},
   "outputs": [
    {
     "data": {
      "image/png": "[encoded data removed]",
      "text/plain": [
       "<Figure size 1008x720 with 2 Axes>"
      ]
     },
     "metadata": {
      "needs_background": "light"
     },
     "output_type": "display_data"
    }
   ],
   "source": [
    "corr=data_X.corr()\n",
    "#Plot figsize\n",
    "fig,ax=plt.subplots(figsize=(14,10))\n",
    "\n",
    " #Generate Heat Map, allow annotations and place floats in map\n",
    "sns.heatmap(corr,annot=True,fmt=\".2f\")    \n",
    "\n",
    "#Apply xticks\n",
    "plt.xticks(range(len(corr.columns)), corr.columns);\n",
    "    #Apply yticks\n",
    "plt.yticks(range(len(corr.columns)), corr.columns)\n",
    "    #show plot\n",
    "plt.show()"
   ]
  },
  {
   "cell_type": "markdown",
   "metadata": {},
   "source": [
    "### Identify Highly Correlated "
   ]
  },
  {
   "cell_type": "code",
   "execution_count": 35,
   "metadata": {},
   "outputs": [
    {
     "name": "stdout",
     "output_type": "stream",
     "text": [
      "['Humidity ']\n"
     ]
    }
   ],
   "source": [
    "# Create correlation matrix\n",
    "corr_matrix = data_X.corr().abs()\n",
    "\n",
    "# Select upper triangle of correlation matrix\n",
    "upper = corr_matrix.where(np.triu(np.ones(corr_matrix.shape), k=1).astype(np.bool))\n",
    "\n",
    "# Find index of feature columns with correlation greater than 0.95\n",
    "to_drop = [column for column in upper.columns if any(upper[column] > 0.95)]\n",
    "print(to_drop)"
   ]
  },
  {
   "cell_type": "markdown",
   "metadata": {},
   "source": [
    "# Feature Engineering/Feature Selection"
   ]
  },
  {
   "cell_type": "markdown",
   "metadata": {},
   "source": [
    "### Drop Highly Correlated Features"
   ]
  },
  {
   "cell_type": "code",
   "execution_count": 36,
   "metadata": {},
   "outputs": [],
   "source": [
    "data_X.drop(['Humidity '],axis=1,inplace=True)"
   ]
  },
  {
   "cell_type": "code",
   "execution_count": 37,
   "metadata": {},
   "outputs": [
    {
     "data": {
      "text/html": [
       "<div>\n",
       "<style scoped>\n",
       "    .dataframe tbody tr th:only-of-type {\n",
       "        vertical-align: middle;\n",
       "    }\n",
       "\n",
       "    .dataframe tbody tr th {\n",
       "        vertical-align: top;\n",
       "    }\n",
       "\n",
       "    .dataframe thead th {\n",
       "        text-align: right;\n",
       "    }\n",
       "</style>\n",
       "<table border=\"1\" class=\"dataframe\">\n",
       "  <thead>\n",
       "    <tr style=\"text-align: right;\">\n",
       "      <th></th>\n",
       "      <th>Temparature</th>\n",
       "      <th>Moisture</th>\n",
       "      <th>Nitrogen</th>\n",
       "      <th>Potassium</th>\n",
       "      <th>Phosphorous</th>\n",
       "      <th>Soil Type_Black</th>\n",
       "      <th>Soil Type_Clayey</th>\n",
       "      <th>Soil Type_Loamy</th>\n",
       "      <th>Soil Type_Red</th>\n",
       "      <th>Soil Type_Sandy</th>\n",
       "      <th>...</th>\n",
       "      <th>Crop Type_Cotton</th>\n",
       "      <th>Crop Type_Ground Nuts</th>\n",
       "      <th>Crop Type_Maize</th>\n",
       "      <th>Crop Type_Millets</th>\n",
       "      <th>Crop Type_Oil seeds</th>\n",
       "      <th>Crop Type_Paddy</th>\n",
       "      <th>Crop Type_Pulses</th>\n",
       "      <th>Crop Type_Sugarcane</th>\n",
       "      <th>Crop Type_Tobacco</th>\n",
       "      <th>Crop Type_Wheat</th>\n",
       "    </tr>\n",
       "  </thead>\n",
       "  <tbody>\n",
       "    <tr>\n",
       "      <th>0</th>\n",
       "      <td>26</td>\n",
       "      <td>38</td>\n",
       "      <td>37</td>\n",
       "      <td>0</td>\n",
       "      <td>0</td>\n",
       "      <td>0</td>\n",
       "      <td>0</td>\n",
       "      <td>0</td>\n",
       "      <td>0</td>\n",
       "      <td>1</td>\n",
       "      <td>...</td>\n",
       "      <td>0</td>\n",
       "      <td>0</td>\n",
       "      <td>1</td>\n",
       "      <td>0</td>\n",
       "      <td>0</td>\n",
       "      <td>0</td>\n",
       "      <td>0</td>\n",
       "      <td>0</td>\n",
       "      <td>0</td>\n",
       "      <td>0</td>\n",
       "    </tr>\n",
       "    <tr>\n",
       "      <th>1</th>\n",
       "      <td>29</td>\n",
       "      <td>45</td>\n",
       "      <td>12</td>\n",
       "      <td>0</td>\n",
       "      <td>36</td>\n",
       "      <td>0</td>\n",
       "      <td>0</td>\n",
       "      <td>1</td>\n",
       "      <td>0</td>\n",
       "      <td>0</td>\n",
       "      <td>...</td>\n",
       "      <td>0</td>\n",
       "      <td>0</td>\n",
       "      <td>0</td>\n",
       "      <td>0</td>\n",
       "      <td>0</td>\n",
       "      <td>0</td>\n",
       "      <td>0</td>\n",
       "      <td>1</td>\n",
       "      <td>0</td>\n",
       "      <td>0</td>\n",
       "    </tr>\n",
       "    <tr>\n",
       "      <th>2</th>\n",
       "      <td>34</td>\n",
       "      <td>62</td>\n",
       "      <td>7</td>\n",
       "      <td>9</td>\n",
       "      <td>30</td>\n",
       "      <td>1</td>\n",
       "      <td>0</td>\n",
       "      <td>0</td>\n",
       "      <td>0</td>\n",
       "      <td>0</td>\n",
       "      <td>...</td>\n",
       "      <td>1</td>\n",
       "      <td>0</td>\n",
       "      <td>0</td>\n",
       "      <td>0</td>\n",
       "      <td>0</td>\n",
       "      <td>0</td>\n",
       "      <td>0</td>\n",
       "      <td>0</td>\n",
       "      <td>0</td>\n",
       "      <td>0</td>\n",
       "    </tr>\n",
       "    <tr>\n",
       "      <th>3</th>\n",
       "      <td>32</td>\n",
       "      <td>34</td>\n",
       "      <td>22</td>\n",
       "      <td>0</td>\n",
       "      <td>20</td>\n",
       "      <td>0</td>\n",
       "      <td>0</td>\n",
       "      <td>0</td>\n",
       "      <td>1</td>\n",
       "      <td>0</td>\n",
       "      <td>...</td>\n",
       "      <td>0</td>\n",
       "      <td>0</td>\n",
       "      <td>0</td>\n",
       "      <td>0</td>\n",
       "      <td>0</td>\n",
       "      <td>0</td>\n",
       "      <td>0</td>\n",
       "      <td>0</td>\n",
       "      <td>1</td>\n",
       "      <td>0</td>\n",
       "    </tr>\n",
       "    <tr>\n",
       "      <th>4</th>\n",
       "      <td>28</td>\n",
       "      <td>46</td>\n",
       "      <td>35</td>\n",
       "      <td>0</td>\n",
       "      <td>0</td>\n",
       "      <td>0</td>\n",
       "      <td>1</td>\n",
       "      <td>0</td>\n",
       "      <td>0</td>\n",
       "      <td>0</td>\n",
       "      <td>...</td>\n",
       "      <td>0</td>\n",
       "      <td>0</td>\n",
       "      <td>0</td>\n",
       "      <td>0</td>\n",
       "      <td>0</td>\n",
       "      <td>1</td>\n",
       "      <td>0</td>\n",
       "      <td>0</td>\n",
       "      <td>0</td>\n",
       "      <td>0</td>\n",
       "    </tr>\n",
       "  </tbody>\n",
       "</table>\n",
       "<p>5 rows × 21 columns</p>\n",
       "</div>"
      ],
      "text/plain": [
       "   Temparature  Moisture  Nitrogen  Potassium  Phosphorous  Soil Type_Black  \\\n",
       "0           26        38        37          0            0                0   \n",
       "1           29        45        12          0           36                0   \n",
       "2           34        62         7          9           30                1   \n",
       "3           32        34        22          0           20                0   \n",
       "4           28        46        35          0            0                0   \n",
       "\n",
       "   Soil Type_Clayey  Soil Type_Loamy  Soil Type_Red  Soil Type_Sandy  ...  \\\n",
       "0                 0                0              0                1  ...   \n",
       "1                 0                1              0                0  ...   \n",
       "2                 0                0              0                0  ...   \n",
       "3                 0                0              1                0  ...   \n",
       "4                 1                0              0                0  ...   \n",
       "\n",
       "   Crop Type_Cotton  Crop Type_Ground Nuts  Crop Type_Maize  \\\n",
       "0                 0                      0                1   \n",
       "1                 0                      0                0   \n",
       "2                 1                      0                0   \n",
       "3                 0                      0                0   \n",
       "4                 0                      0                0   \n",
       "\n",
       "   Crop Type_Millets  Crop Type_Oil seeds  Crop Type_Paddy  Crop Type_Pulses  \\\n",
       "0                  0                    0                0                 0   \n",
       "1                  0                    0                0                 0   \n",
       "2                  0                    0                0                 0   \n",
       "3                  0                    0                0                 0   \n",
       "4                  0                    0                1                 0   \n",
       "\n",
       "   Crop Type_Sugarcane  Crop Type_Tobacco  Crop Type_Wheat  \n",
       "0                    0                  0                0  \n",
       "1                    1                  0                0  \n",
       "2                    0                  0                0  \n",
       "3                    0                  1                0  \n",
       "4                    0                  0                0  \n",
       "\n",
       "[5 rows x 21 columns]"
      ]
     },
     "execution_count": 37,
     "metadata": {},
     "output_type": "execute_result"
    }
   ],
   "source": [
    "data_X.head()"
   ]
  },
  {
   "cell_type": "markdown",
   "metadata": {},
   "source": [
    "### Rechecking if there exists any correlation between features"
   ]
  },
  {
   "cell_type": "code",
   "execution_count": 38,
   "metadata": {},
   "outputs": [
    {
     "name": "stdout",
     "output_type": "stream",
     "text": [
      "[]\n"
     ]
    }
   ],
   "source": [
    "# Create correlation matrix\n",
    "corr_matrix = data_X.corr().abs()\n",
    "\n",
    "# Select upper triangle of correlation matrix\n",
    "upper = corr_matrix.where(np.triu(np.ones(corr_matrix.shape), k=1).astype(np.bool))\n",
    "\n",
    "# Find index of feature columns with correlation greater than 0.95\n",
    "to_drop = [column for column in upper.columns if any(upper[column] > 0.95)]\n",
    "print(to_drop)"
   ]
  },
  {
   "cell_type": "markdown",
   "metadata": {},
   "source": [
    "### Convert to Standard Scaler"
   ]
  },
  {
   "cell_type": "code",
   "execution_count": 39,
   "metadata": {},
   "outputs": [],
   "source": [
    "ss=StandardScaler()"
   ]
  },
  {
   "cell_type": "code",
   "execution_count": 40,
   "metadata": {},
   "outputs": [],
   "source": [
    "data_X=ss.fit_transform(data_X)"
   ]
  },
  {
   "cell_type": "code",
   "execution_count": 41,
   "metadata": {},
   "outputs": [
    {
     "data": {
      "text/plain": [
       "array([[-1.47397217, -0.44087641,  1.52466092, ..., -0.41403934,\n",
       "        -0.30550505, -0.28097574],\n",
       "       [-0.35828862,  0.18863369, -0.61906671, ...,  2.41522946,\n",
       "        -0.30550505, -0.28097574],\n",
       "       [ 1.50118396,  1.71744394, -1.04781223, ..., -0.41403934,\n",
       "        -0.30550505, -0.28097574],\n",
       "       ...,\n",
       "       [-0.73018313, -1.6099666 , -0.87631402, ..., -0.41403934,\n",
       "        -0.30550505, -0.28097574],\n",
       "       [ 0.0136059 , -1.43010657, -1.30505955, ..., -0.41403934,\n",
       "         3.27326835, -0.28097574],\n",
       "       [-0.35828862,  1.26779386, -0.61906671, ...,  2.41522946,\n",
       "        -0.30550505, -0.28097574]])"
      ]
     },
     "execution_count": 41,
     "metadata": {},
     "output_type": "execute_result"
    }
   ],
   "source": [
    "data_X"
   ]
  },
  {
   "cell_type": "code",
   "execution_count": 42,
   "metadata": {},
   "outputs": [],
   "source": [
    "#data_y=ss.fit_transform(data_y)"
   ]
  },
  {
   "cell_type": "code",
   "execution_count": 43,
   "metadata": {},
   "outputs": [],
   "source": [
    "#data_y"
   ]
  },
  {
   "cell_type": "markdown",
   "metadata": {},
   "source": [
    "### Train_Test_Split"
   ]
  },
  {
   "cell_type": "code",
   "execution_count": 44,
   "metadata": {},
   "outputs": [],
   "source": [
    "X_train,X_test,y_train,y_test=train_test_split(data_X, data_y,test_size=0.20,random_state=20)"
   ]
  },
  {
   "cell_type": "markdown",
   "metadata": {},
   "source": [
    "# Model Selection - Logistic Regression"
   ]
  },
  {
   "cell_type": "code",
   "execution_count": 45,
   "metadata": {},
   "outputs": [],
   "source": [
    "from sklearn.linear_model import LogisticRegression"
   ]
  },
  {
   "cell_type": "code",
   "execution_count": 46,
   "metadata": {},
   "outputs": [],
   "source": [
    "lr=LogisticRegression()"
   ]
  },
  {
   "cell_type": "code",
   "execution_count": 47,
   "metadata": {},
   "outputs": [
    {
     "name": "stderr",
     "output_type": "stream",
     "text": [
      "C:\\Users\\akumar4\\AppData\\Local\\Continuum\\anaconda3\\lib\\site-packages\\sklearn\\utils\\validation.py:760: DataConversionWarning: A column-vector y was passed when a 1d array was expected. Please change the shape of y to (n_samples, ), for example using ravel().\n",
      "  y = column_or_1d(y, warn=True)\n"
     ]
    },
    {
     "data": {
      "text/plain": [
       "LogisticRegression(C=1.0, class_weight=None, dual=False, fit_intercept=True,\n",
       "                   intercept_scaling=1, l1_ratio=None, max_iter=100,\n",
       "                   multi_class='auto', n_jobs=None, penalty='l2',\n",
       "                   random_state=None, solver='lbfgs', tol=0.0001, verbose=0,\n",
       "                   warm_start=False)"
      ]
     },
     "execution_count": 47,
     "metadata": {},
     "output_type": "execute_result"
    }
   ],
   "source": [
    "lr.fit(X_train,y_train)"
   ]
  },
  {
   "cell_type": "code",
   "execution_count": 48,
   "metadata": {},
   "outputs": [],
   "source": [
    "y_pred_lr=lr.predict(X_test)"
   ]
  },
  {
   "cell_type": "code",
   "execution_count": 49,
   "metadata": {},
   "outputs": [],
   "source": [
    "cm=confusion_matrix(y_test,y_pred_lr)"
   ]
  },
  {
   "cell_type": "code",
   "execution_count": 50,
   "metadata": {},
   "outputs": [
    {
     "data": {
      "image/png": "[encoded data removed]",
      "text/plain": [
       "<Figure size 432x288 with 2 Axes>"
      ]
     },
     "metadata": {
      "needs_background": "light"
     },
     "output_type": "display_data"
    }
   ],
   "source": [
    "sns.heatmap(cm,annot=True,fmt='.4g',cmap='Blues')\n",
    "plt.show()"
   ]
  },
  {
   "cell_type": "code",
   "execution_count": 51,
   "metadata": {},
   "outputs": [],
   "source": [
    "acl=accuracy_score(y_test,y_pred_lr)"
   ]
  },
  {
   "cell_type": "code",
   "execution_count": 52,
   "metadata": {},
   "outputs": [
    {
     "name": "stdout",
     "output_type": "stream",
     "text": [
      "Accuracy Score 0.7647058823529411 :\n"
     ]
    }
   ],
   "source": [
    "print('Accuracy Score {} :'.format(acl))"
   ]
  },
  {
   "cell_type": "code",
   "execution_count": 53,
   "metadata": {},
   "outputs": [
    {
     "name": "stdout",
     "output_type": "stream",
     "text": [
      "Precision Score 0.7647058823529411 :\n"
     ]
    }
   ],
   "source": [
    "prec=precision_score(y_test,y_pred_lr,average='micro')\n",
    "print('Precision Score {} :'.format(prec))"
   ]
  },
  {
   "cell_type": "code",
   "execution_count": 54,
   "metadata": {},
   "outputs": [
    {
     "name": "stdout",
     "output_type": "stream",
     "text": [
      "Recall Score 0.7647058823529411:\n"
     ]
    }
   ],
   "source": [
    "recall=recall_score(y_test,y_pred_lr,average='micro')\n",
    "print('Recall Score {}:'.format(recall))"
   ]
  },
  {
   "cell_type": "code",
   "execution_count": 55,
   "metadata": {},
   "outputs": [
    {
     "name": "stderr",
     "output_type": "stream",
     "text": [
      "C:\\Users\\akumar4\\AppData\\Local\\Continuum\\anaconda3\\lib\\site-packages\\sklearn\\model_selection\\_split.py:667: UserWarning: The least populated class in y has only 5 members, which is less than n_splits=10.\n",
      "  % (min_groups, self.n_splits)), UserWarning)\n",
      "C:\\Users\\akumar4\\AppData\\Local\\Continuum\\anaconda3\\lib\\site-packages\\sklearn\\utils\\validation.py:760: DataConversionWarning: A column-vector y was passed when a 1d array was expected. Please change the shape of y to (n_samples, ), for example using ravel().\n",
      "  y = column_or_1d(y, warn=True)\n",
      "C:\\Users\\akumar4\\AppData\\Local\\Continuum\\anaconda3\\lib\\site-packages\\sklearn\\utils\\validation.py:760: DataConversionWarning: A column-vector y was passed when a 1d array was expected. Please change the shape of y to (n_samples, ), for example using ravel().\n",
      "  y = column_or_1d(y, warn=True)\n",
      "C:\\Users\\akumar4\\AppData\\Local\\Continuum\\anaconda3\\lib\\site-packages\\sklearn\\utils\\validation.py:760: DataConversionWarning: A column-vector y was passed when a 1d array was expected. Please change the shape of y to (n_samples, ), for example using ravel().\n",
      "  y = column_or_1d(y, warn=True)\n",
      "C:\\Users\\akumar4\\AppData\\Local\\Continuum\\anaconda3\\lib\\site-packages\\sklearn\\utils\\validation.py:760: DataConversionWarning: A column-vector y was passed when a 1d array was expected. Please change the shape of y to (n_samples, ), for example using ravel().\n",
      "  y = column_or_1d(y, warn=True)\n",
      "C:\\Users\\akumar4\\AppData\\Local\\Continuum\\anaconda3\\lib\\site-packages\\sklearn\\utils\\validation.py:760: DataConversionWarning: A column-vector y was passed when a 1d array was expected. Please change the shape of y to (n_samples, ), for example using ravel().\n",
      "  y = column_or_1d(y, warn=True)\n",
      "C:\\Users\\akumar4\\AppData\\Local\\Continuum\\anaconda3\\lib\\site-packages\\sklearn\\utils\\validation.py:760: DataConversionWarning: A column-vector y was passed when a 1d array was expected. Please change the shape of y to (n_samples, ), for example using ravel().\n",
      "  y = column_or_1d(y, warn=True)\n",
      "C:\\Users\\akumar4\\AppData\\Local\\Continuum\\anaconda3\\lib\\site-packages\\sklearn\\utils\\validation.py:760: DataConversionWarning: A column-vector y was passed when a 1d array was expected. Please change the shape of y to (n_samples, ), for example using ravel().\n",
      "  y = column_or_1d(y, warn=True)\n",
      "C:\\Users\\akumar4\\AppData\\Local\\Continuum\\anaconda3\\lib\\site-packages\\sklearn\\utils\\validation.py:760: DataConversionWarning: A column-vector y was passed when a 1d array was expected. Please change the shape of y to (n_samples, ), for example using ravel().\n",
      "  y = column_or_1d(y, warn=True)\n",
      "C:\\Users\\akumar4\\AppData\\Local\\Continuum\\anaconda3\\lib\\site-packages\\sklearn\\utils\\validation.py:760: DataConversionWarning: A column-vector y was passed when a 1d array was expected. Please change the shape of y to (n_samples, ), for example using ravel().\n",
      "  y = column_or_1d(y, warn=True)\n",
      "C:\\Users\\akumar4\\AppData\\Local\\Continuum\\anaconda3\\lib\\site-packages\\sklearn\\utils\\validation.py:760: DataConversionWarning: A column-vector y was passed when a 1d array was expected. Please change the shape of y to (n_samples, ), for example using ravel().\n",
      "  y = column_or_1d(y, warn=True)\n"
     ]
    }
   ],
   "source": [
    "from sklearn.model_selection import cross_val_score\n",
    "cvs=cross_val_score(lr,data_X, data_y,cv=10)"
   ]
  },
  {
   "cell_type": "code",
   "execution_count": 56,
   "metadata": {},
   "outputs": [
    {
     "data": {
      "text/plain": [
       "0.7611111111111111"
      ]
     },
     "execution_count": 56,
     "metadata": {},
     "output_type": "execute_result"
    }
   ],
   "source": [
    "cvs.mean()"
   ]
  },
  {
   "cell_type": "markdown",
   "metadata": {},
   "source": [
    "### Save Linear Regression Model"
   ]
  },
  {
   "cell_type": "code",
   "execution_count": 57,
   "metadata": {},
   "outputs": [],
   "source": [
    "pickle.dump(lr,open('Fertlizer_Predict_LR.pkl','wb'))"
   ]
  },
  {
   "cell_type": "code",
   "execution_count": 58,
   "metadata": {},
   "outputs": [],
   "source": [
    "model=pickle.load(open('Fertlizer_Predict_LR.pkl','rb'))"
   ]
  },
  {
   "cell_type": "markdown",
   "metadata": {},
   "source": [
    "# Model Selection -Support Vector Classifier"
   ]
  },
  {
   "cell_type": "code",
   "execution_count": 59,
   "metadata": {},
   "outputs": [],
   "source": [
    "from sklearn.svm import SVC"
   ]
  },
  {
   "cell_type": "code",
   "execution_count": 60,
   "metadata": {},
   "outputs": [],
   "source": [
    "svm=SVC()"
   ]
  },
  {
   "cell_type": "code",
   "execution_count": 61,
   "metadata": {},
   "outputs": [
    {
     "name": "stderr",
     "output_type": "stream",
     "text": [
      "C:\\Users\\akumar4\\AppData\\Local\\Continuum\\anaconda3\\lib\\site-packages\\sklearn\\utils\\validation.py:760: DataConversionWarning: A column-vector y was passed when a 1d array was expected. Please change the shape of y to (n_samples, ), for example using ravel().\n",
      "  y = column_or_1d(y, warn=True)\n"
     ]
    },
    {
     "data": {
      "text/plain": [
       "SVC(C=1.0, break_ties=False, cache_size=200, class_weight=None, coef0=0.0,\n",
       "    decision_function_shape='ovr', degree=3, gamma='scale', kernel='rbf',\n",
       "    max_iter=-1, probability=False, random_state=None, shrinking=True,\n",
       "    tol=0.001, verbose=False)"
      ]
     },
     "execution_count": 61,
     "metadata": {},
     "output_type": "execute_result"
    }
   ],
   "source": [
    "svm.fit(X_train,y_train)"
   ]
  },
  {
   "cell_type": "code",
   "execution_count": 62,
   "metadata": {},
   "outputs": [],
   "source": [
    "y_pred_svm=svm.predict(X_test)"
   ]
  },
  {
   "cell_type": "code",
   "execution_count": 63,
   "metadata": {},
   "outputs": [
    {
     "data": {
      "text/plain": [
       "array([[1, 0, 0, 0, 0, 0, 0],\n",
       "       [0, 0, 0, 0, 3, 2, 0],\n",
       "       [0, 0, 0, 0, 1, 0, 0],\n",
       "       [0, 0, 0, 1, 2, 0, 0],\n",
       "       [0, 0, 0, 0, 2, 0, 0],\n",
       "       [0, 0, 0, 0, 1, 2, 0],\n",
       "       [0, 0, 0, 0, 1, 0, 1]], dtype=int64)"
      ]
     },
     "execution_count": 63,
     "metadata": {},
     "output_type": "execute_result"
    }
   ],
   "source": [
    "cm=confusion_matrix(y_test,y_pred_svm)\n",
    "cm"
   ]
  },
  {
   "cell_type": "code",
   "execution_count": 64,
   "metadata": {},
   "outputs": [
    {
     "data": {
      "image/png": "[encoded data removed]",
      "text/plain": [
       "<Figure size 432x288 with 2 Axes>"
      ]
     },
     "metadata": {
      "needs_background": "light"
     },
     "output_type": "display_data"
    }
   ],
   "source": [
    "sns.heatmap(cm,annot=True,fmt='.4g',cmap='Blues')\n",
    "plt.show()"
   ]
  },
  {
   "cell_type": "code",
   "execution_count": 65,
   "metadata": {},
   "outputs": [],
   "source": [
    "acsvm=accuracy_score(y_test,y_pred_svm)\n"
   ]
  },
  {
   "cell_type": "code",
   "execution_count": 66,
   "metadata": {},
   "outputs": [
    {
     "name": "stdout",
     "output_type": "stream",
     "text": [
      "Accuracy Score 0.4117647058823529:\n"
     ]
    }
   ],
   "source": [
    "print('Accuracy Score {}:'.format(acsvm))"
   ]
  },
  {
   "cell_type": "code",
   "execution_count": 67,
   "metadata": {},
   "outputs": [
    {
     "name": "stdout",
     "output_type": "stream",
     "text": [
      "Precision Score 0.4117647058823529:\n"
     ]
    }
   ],
   "source": [
    "prec=precision_score(y_test,y_pred_svm,average='micro')\n",
    "print('Precision Score {}:'.format(prec))"
   ]
  },
  {
   "cell_type": "code",
   "execution_count": 68,
   "metadata": {},
   "outputs": [
    {
     "name": "stdout",
     "output_type": "stream",
     "text": [
      "Recall Score 0.4117647058823529:\n"
     ]
    }
   ],
   "source": [
    "recall=recall_score(y_test,y_pred_svm,average='micro')\n",
    "print('Recall Score {}:'.format(recall))"
   ]
  },
  {
   "cell_type": "markdown",
   "metadata": {},
   "source": [
    "### Using ANN - Deep Learning"
   ]
  },
  {
   "cell_type": "markdown",
   "metadata": {},
   "source": [
    "### Initialize classifier"
   ]
  },
  {
   "cell_type": "code",
   "execution_count": 69,
   "metadata": {},
   "outputs": [],
   "source": [
    "classifier=Sequential()"
   ]
  },
  {
   "cell_type": "markdown",
   "metadata": {},
   "source": [
    "### Add first input layer and first hidden layer"
   ]
  },
  {
   "cell_type": "code",
   "execution_count": 70,
   "metadata": {},
   "outputs": [],
   "source": [
    "classifier.add(Dense(units=6,kernel_initializer='he_uniform',activation='relu',input_dim=21))"
   ]
  },
  {
   "cell_type": "markdown",
   "metadata": {},
   "source": [
    "### Mid Layer"
   ]
  },
  {
   "cell_type": "code",
   "execution_count": 71,
   "metadata": {},
   "outputs": [],
   "source": [
    "classifier.add(Dense(units=6,kernel_initializer='he_uniform',activation='relu'))"
   ]
  },
  {
   "cell_type": "markdown",
   "metadata": {},
   "source": [
    "### Output Layer"
   ]
  },
  {
   "cell_type": "code",
   "execution_count": 72,
   "metadata": {},
   "outputs": [],
   "source": [
    "classifier.add(Dense(units=7,kernel_initializer='glorot_uniform',activation='softmax'))"
   ]
  },
  {
   "cell_type": "code",
   "execution_count": 73,
   "metadata": {},
   "outputs": [],
   "source": [
    "# Compiling the ANN\n",
    "classifier.compile(optimizer = 'Adamax', loss = 'sparse_categorical_crossentropy', metrics = ['accuracy'])"
   ]
  },
  {
   "cell_type": "code",
   "execution_count": 74,
   "metadata": {},
   "outputs": [
    {
     "name": "stdout",
     "output_type": "stream",
     "text": [
      "Model: \"sequential_1\"\n",
      "_________________________________________________________________\n",
      "Layer (type)                 Output Shape              Param #   \n",
      "=================================================================\n",
      "dense_1 (Dense)              (None, 6)                 132       \n",
      "_________________________________________________________________\n",
      "dense_2 (Dense)              (None, 6)                 42        \n",
      "_________________________________________________________________\n",
      "dense_3 (Dense)              (None, 7)                 49        \n",
      "=================================================================\n",
      "Total params: 223\n",
      "Trainable params: 223\n",
      "Non-trainable params: 0\n",
      "_________________________________________________________________\n"
     ]
    }
   ],
   "source": [
    "classifier.summary()"
   ]
  },
  {
   "cell_type": "code",
   "execution_count": 75,
   "metadata": {},
   "outputs": [
    {
     "name": "stdout",
     "output_type": "stream",
     "text": [
      "Train on 58 samples, validate on 7 samples\n",
      "Epoch 1/200\n",
      "58/58 [==============================] - 0s 1ms/step - loss: 2.2380 - accuracy: 0.1379 - val_loss: 2.1940 - val_accuracy: 0.0000e+00\n",
      "Epoch 2/200\n",
      "58/58 [==============================] - 0s 190us/step - loss: 2.1902 - accuracy: 0.1379 - val_loss: 2.1532 - val_accuracy: 0.0000e+00\n",
      "Epoch 3/200\n",
      "58/58 [==============================] - 0s 190us/step - loss: 2.1527 - accuracy: 0.1379 - val_loss: 2.1230 - val_accuracy: 0.0000e+00\n",
      "Epoch 4/200\n",
      "58/58 [==============================] - 0s 172us/step - loss: 2.1231 - accuracy: 0.1552 - val_loss: 2.0958 - val_accuracy: 0.0000e+00\n",
      "Epoch 5/200\n",
      "58/58 [==============================] - 0s 198us/step - loss: 2.0968 - accuracy: 0.1552 - val_loss: 2.0689 - val_accuracy: 0.0000e+00\n",
      "Epoch 6/200\n",
      "58/58 [==============================] - 0s 178us/step - loss: 2.0734 - accuracy: 0.1552 - val_loss: 2.0510 - val_accuracy: 0.0000e+00\n",
      "Epoch 7/200\n",
      "58/58 [==============================] - 0s 190us/step - loss: 2.0531 - accuracy: 0.1724 - val_loss: 2.0288 - val_accuracy: 0.0000e+00\n",
      "Epoch 8/200\n",
      "58/58 [==============================] - 0s 191us/step - loss: 2.0346 - accuracy: 0.1724 - val_loss: 2.0076 - val_accuracy: 0.0000e+00\n",
      "Epoch 9/200\n",
      "58/58 [==============================] - 0s 173us/step - loss: 2.0161 - accuracy: 0.1724 - val_loss: 1.9883 - val_accuracy: 0.1429\n",
      "Epoch 10/200\n",
      "58/58 [==============================] - 0s 173us/step - loss: 1.9983 - accuracy: 0.1897 - val_loss: 1.9700 - val_accuracy: 0.1429\n",
      "Epoch 11/200\n",
      "58/58 [==============================] - 0s 173us/step - loss: 1.9825 - accuracy: 0.1897 - val_loss: 1.9535 - val_accuracy: 0.1429\n",
      "Epoch 12/200\n",
      "58/58 [==============================] - 0s 156us/step - loss: 1.9674 - accuracy: 0.1897 - val_loss: 1.9402 - val_accuracy: 0.1429\n",
      "Epoch 13/200\n",
      "58/58 [==============================] - 0s 155us/step - loss: 1.9529 - accuracy: 0.2241 - val_loss: 1.9221 - val_accuracy: 0.1429\n",
      "Epoch 14/200\n",
      "58/58 [==============================] - 0s 199us/step - loss: 1.9379 - accuracy: 0.2414 - val_loss: 1.9076 - val_accuracy: 0.1429\n",
      "Epoch 15/200\n",
      "58/58 [==============================] - 0s 158us/step - loss: 1.9260 - accuracy: 0.2414 - val_loss: 1.8925 - val_accuracy: 0.1429\n",
      "Epoch 16/200\n",
      "58/58 [==============================] - 0s 156us/step - loss: 1.9139 - accuracy: 0.2414 - val_loss: 1.8793 - val_accuracy: 0.0000e+00\n",
      "Epoch 17/200\n",
      "58/58 [==============================] - 0s 156us/step - loss: 1.9010 - accuracy: 0.2414 - val_loss: 1.8685 - val_accuracy: 0.1429\n",
      "Epoch 18/200\n",
      "58/58 [==============================] - 0s 173us/step - loss: 1.8901 - accuracy: 0.2759 - val_loss: 1.8576 - val_accuracy: 0.1429\n",
      "Epoch 19/200\n",
      "58/58 [==============================] - 0s 172us/step - loss: 1.8796 - accuracy: 0.2759 - val_loss: 1.8437 - val_accuracy: 0.1429\n",
      "Epoch 20/200\n",
      "58/58 [==============================] - 0s 173us/step - loss: 1.8685 - accuracy: 0.2586 - val_loss: 1.8352 - val_accuracy: 0.1429\n",
      "Epoch 21/200\n",
      "58/58 [==============================] - 0s 172us/step - loss: 1.8577 - accuracy: 0.2414 - val_loss: 1.8249 - val_accuracy: 0.1429\n",
      "Epoch 22/200\n",
      "58/58 [==============================] - 0s 172us/step - loss: 1.8480 - accuracy: 0.2414 - val_loss: 1.8121 - val_accuracy: 0.2857\n",
      "Epoch 23/200\n",
      "58/58 [==============================] - 0s 191us/step - loss: 1.8377 - accuracy: 0.2414 - val_loss: 1.8028 - val_accuracy: 0.2857\n",
      "Epoch 24/200\n",
      "58/58 [==============================] - 0s 173us/step - loss: 1.8279 - accuracy: 0.2414 - val_loss: 1.7967 - val_accuracy: 0.2857\n",
      "Epoch 25/200\n",
      "58/58 [==============================] - 0s 173us/step - loss: 1.8193 - accuracy: 0.2414 - val_loss: 1.7871 - val_accuracy: 0.2857\n",
      "Epoch 26/200\n",
      "58/58 [==============================] - 0s 190us/step - loss: 1.8111 - accuracy: 0.2414 - val_loss: 1.7756 - val_accuracy: 0.2857\n",
      "Epoch 27/200\n",
      "58/58 [==============================] - 0s 155us/step - loss: 1.8016 - accuracy: 0.2414 - val_loss: 1.7702 - val_accuracy: 0.2857\n",
      "Epoch 28/200\n",
      "58/58 [==============================] - 0s 156us/step - loss: 1.7938 - accuracy: 0.2414 - val_loss: 1.7603 - val_accuracy: 0.2857\n",
      "Epoch 29/200\n",
      "58/58 [==============================] - 0s 208us/step - loss: 1.7864 - accuracy: 0.2586 - val_loss: 1.7505 - val_accuracy: 0.2857\n",
      "Epoch 30/200\n",
      "58/58 [==============================] - 0s 172us/step - loss: 1.7779 - accuracy: 0.2759 - val_loss: 1.7396 - val_accuracy: 0.4286\n",
      "Epoch 31/200\n",
      "58/58 [==============================] - 0s 182us/step - loss: 1.7701 - accuracy: 0.2759 - val_loss: 1.7323 - val_accuracy: 0.5714\n",
      "Epoch 32/200\n",
      "58/58 [==============================] - 0s 190us/step - loss: 1.7626 - accuracy: 0.2759 - val_loss: 1.7200 - val_accuracy: 0.5714\n",
      "Epoch 33/200\n",
      "58/58 [==============================] - 0s 173us/step - loss: 1.7541 - accuracy: 0.2759 - val_loss: 1.7107 - val_accuracy: 0.5714\n",
      "Epoch 34/200\n",
      "58/58 [==============================] - 0s 172us/step - loss: 1.7459 - accuracy: 0.2759 - val_loss: 1.7000 - val_accuracy: 0.5714\n",
      "Epoch 35/200\n",
      "58/58 [==============================] - 0s 225us/step - loss: 1.7381 - accuracy: 0.2759 - val_loss: 1.6892 - val_accuracy: 0.5714\n",
      "Epoch 36/200\n",
      "58/58 [==============================] - 0s 208us/step - loss: 1.7305 - accuracy: 0.2931 - val_loss: 1.6784 - val_accuracy: 0.5714\n",
      "Epoch 37/200\n",
      "58/58 [==============================] - 0s 208us/step - loss: 1.7222 - accuracy: 0.2931 - val_loss: 1.6674 - val_accuracy: 0.5714\n",
      "Epoch 38/200\n",
      "58/58 [==============================] - 0s 207us/step - loss: 1.7148 - accuracy: 0.2931 - val_loss: 1.6581 - val_accuracy: 0.5714\n",
      "Epoch 39/200\n",
      "58/58 [==============================] - 0s 216us/step - loss: 1.7068 - accuracy: 0.3103 - val_loss: 1.6461 - val_accuracy: 0.5714\n",
      "Epoch 40/200\n",
      "58/58 [==============================] - 0s 216us/step - loss: 1.6988 - accuracy: 0.3103 - val_loss: 1.6354 - val_accuracy: 0.5714\n",
      "Epoch 41/200\n",
      "58/58 [==============================] - 0s 195us/step - loss: 1.6904 - accuracy: 0.3276 - val_loss: 1.6256 - val_accuracy: 0.5714\n",
      "Epoch 42/200\n",
      "58/58 [==============================] - 0s 173us/step - loss: 1.6837 - accuracy: 0.3276 - val_loss: 1.6115 - val_accuracy: 0.5714\n",
      "Epoch 43/200\n",
      "58/58 [==============================] - 0s 173us/step - loss: 1.6741 - accuracy: 0.3276 - val_loss: 1.6035 - val_accuracy: 0.5714\n",
      "Epoch 44/200\n",
      "58/58 [==============================] - 0s 156us/step - loss: 1.6661 - accuracy: 0.3276 - val_loss: 1.5931 - val_accuracy: 0.5714\n",
      "Epoch 45/200\n",
      "58/58 [==============================] - 0s 156us/step - loss: 1.6585 - accuracy: 0.3276 - val_loss: 1.5810 - val_accuracy: 0.5714\n",
      "Epoch 46/200\n",
      "58/58 [==============================] - 0s 172us/step - loss: 1.6496 - accuracy: 0.3621 - val_loss: 1.5717 - val_accuracy: 0.5714\n",
      "Epoch 47/200\n",
      "58/58 [==============================] - 0s 156us/step - loss: 1.6421 - accuracy: 0.3621 - val_loss: 1.5600 - val_accuracy: 0.5714\n",
      "Epoch 48/200\n",
      "58/58 [==============================] - 0s 173us/step - loss: 1.6332 - accuracy: 0.3621 - val_loss: 1.5459 - val_accuracy: 0.5714\n",
      "Epoch 49/200\n",
      "58/58 [==============================] - 0s 164us/step - loss: 1.6242 - accuracy: 0.3621 - val_loss: 1.5325 - val_accuracy: 0.5714\n",
      "Epoch 50/200\n",
      "58/58 [==============================] - 0s 147us/step - loss: 1.6155 - accuracy: 0.3621 - val_loss: 1.5206 - val_accuracy: 0.5714\n",
      "Epoch 51/200\n",
      "58/58 [==============================] - 0s 155us/step - loss: 1.6063 - accuracy: 0.3621 - val_loss: 1.5056 - val_accuracy: 0.5714\n",
      "Epoch 52/200\n",
      "58/58 [==============================] - 0s 173us/step - loss: 1.5972 - accuracy: 0.3621 - val_loss: 1.4951 - val_accuracy: 0.5714\n",
      "Epoch 53/200\n",
      "58/58 [==============================] - 0s 155us/step - loss: 1.5895 - accuracy: 0.3621 - val_loss: 1.4784 - val_accuracy: 0.5714\n",
      "Epoch 54/200\n",
      "58/58 [==============================] - 0s 156us/step - loss: 1.5799 - accuracy: 0.3793 - val_loss: 1.4642 - val_accuracy: 0.5714\n",
      "Epoch 55/200\n",
      "58/58 [==============================] - 0s 138us/step - loss: 1.5713 - accuracy: 0.3793 - val_loss: 1.4540 - val_accuracy: 0.5714\n",
      "Epoch 56/200\n",
      "58/58 [==============================] - 0s 156us/step - loss: 1.5632 - accuracy: 0.3793 - val_loss: 1.4383 - val_accuracy: 0.5714\n",
      "Epoch 57/200\n",
      "58/58 [==============================] - 0s 156us/step - loss: 1.5542 - accuracy: 0.3793 - val_loss: 1.4254 - val_accuracy: 0.5714\n",
      "Epoch 58/200\n",
      "58/58 [==============================] - 0s 172us/step - loss: 1.5456 - accuracy: 0.3621 - val_loss: 1.4094 - val_accuracy: 0.5714\n",
      "Epoch 59/200\n",
      "58/58 [==============================] - 0s 164us/step - loss: 1.5370 - accuracy: 0.3621 - val_loss: 1.3941 - val_accuracy: 0.5714\n",
      "Epoch 60/200\n",
      "58/58 [==============================] - 0s 190us/step - loss: 1.5274 - accuracy: 0.3793 - val_loss: 1.3773 - val_accuracy: 0.5714\n",
      "Epoch 61/200\n",
      "58/58 [==============================] - 0s 156us/step - loss: 1.5181 - accuracy: 0.4310 - val_loss: 1.3651 - val_accuracy: 0.5714\n",
      "Epoch 62/200\n",
      "58/58 [==============================] - 0s 173us/step - loss: 1.5087 - accuracy: 0.4310 - val_loss: 1.3529 - val_accuracy: 0.5714\n",
      "Epoch 63/200\n",
      "58/58 [==============================] - 0s 156us/step - loss: 1.4996 - accuracy: 0.4483 - val_loss: 1.3401 - val_accuracy: 0.5714\n",
      "Epoch 64/200\n",
      "58/58 [==============================] - 0s 172us/step - loss: 1.4900 - accuracy: 0.4483 - val_loss: 1.3266 - val_accuracy: 0.5714\n",
      "Epoch 65/200\n",
      "58/58 [==============================] - 0s 173us/step - loss: 1.4808 - accuracy: 0.4483 - val_loss: 1.3163 - val_accuracy: 0.5714\n",
      "Epoch 66/200\n",
      "58/58 [==============================] - 0s 138us/step - loss: 1.4721 - accuracy: 0.4655 - val_loss: 1.3051 - val_accuracy: 0.5714\n",
      "Epoch 67/200\n",
      "58/58 [==============================] - 0s 156us/step - loss: 1.4635 - accuracy: 0.4655 - val_loss: 1.2946 - val_accuracy: 0.5714\n",
      "Epoch 68/200\n",
      "58/58 [==============================] - 0s 147us/step - loss: 1.4553 - accuracy: 0.4655 - val_loss: 1.2827 - val_accuracy: 0.5714\n",
      "Epoch 69/200\n",
      "58/58 [==============================] - 0s 156us/step - loss: 1.4470 - accuracy: 0.4655 - val_loss: 1.2701 - val_accuracy: 0.5714\n",
      "Epoch 70/200\n",
      "58/58 [==============================] - 0s 138us/step - loss: 1.4386 - accuracy: 0.4483 - val_loss: 1.2608 - val_accuracy: 0.7143\n",
      "Epoch 71/200\n",
      "58/58 [==============================] - 0s 138us/step - loss: 1.4309 - accuracy: 0.4483 - val_loss: 1.2505 - val_accuracy: 0.7143\n",
      "Epoch 72/200\n",
      "58/58 [==============================] - 0s 156us/step - loss: 1.4232 - accuracy: 0.4483 - val_loss: 1.2441 - val_accuracy: 0.7143\n",
      "Epoch 73/200\n",
      "58/58 [==============================] - 0s 138us/step - loss: 1.4155 - accuracy: 0.4483 - val_loss: 1.2382 - val_accuracy: 0.7143\n",
      "Epoch 74/200\n",
      "58/58 [==============================] - 0s 156us/step - loss: 1.4079 - accuracy: 0.4483 - val_loss: 1.2270 - val_accuracy: 0.7143\n",
      "Epoch 75/200\n",
      "58/58 [==============================] - 0s 138us/step - loss: 1.4008 - accuracy: 0.4483 - val_loss: 1.2174 - val_accuracy: 0.7143\n",
      "Epoch 76/200\n",
      "58/58 [==============================] - 0s 156us/step - loss: 1.3927 - accuracy: 0.4483 - val_loss: 1.2103 - val_accuracy: 0.7143\n",
      "Epoch 77/200\n",
      "58/58 [==============================] - 0s 138us/step - loss: 1.3854 - accuracy: 0.4655 - val_loss: 1.2021 - val_accuracy: 0.7143\n",
      "Epoch 78/200\n",
      "58/58 [==============================] - 0s 156us/step - loss: 1.3780 - accuracy: 0.4828 - val_loss: 1.1958 - val_accuracy: 0.7143\n",
      "Epoch 79/200\n",
      "58/58 [==============================] - 0s 164us/step - loss: 1.3709 - accuracy: 0.4828 - val_loss: 1.1899 - val_accuracy: 0.7143\n",
      "Epoch 80/200\n",
      "58/58 [==============================] - 0s 154us/step - loss: 1.3631 - accuracy: 0.4828 - val_loss: 1.1829 - val_accuracy: 0.7143\n",
      "Epoch 81/200\n",
      "58/58 [==============================] - 0s 173us/step - loss: 1.3565 - accuracy: 0.4828 - val_loss: 1.1774 - val_accuracy: 0.7143\n",
      "Epoch 82/200\n",
      "58/58 [==============================] - 0s 139us/step - loss: 1.3491 - accuracy: 0.4828 - val_loss: 1.1727 - val_accuracy: 0.7143\n",
      "Epoch 83/200\n",
      "58/58 [==============================] - 0s 156us/step - loss: 1.3425 - accuracy: 0.4828 - val_loss: 1.1627 - val_accuracy: 0.7143\n",
      "Epoch 84/200\n",
      "58/58 [==============================] - 0s 156us/step - loss: 1.3348 - accuracy: 0.4828 - val_loss: 1.1546 - val_accuracy: 0.7143\n",
      "Epoch 85/200\n",
      "58/58 [==============================] - 0s 138us/step - loss: 1.3269 - accuracy: 0.4828 - val_loss: 1.1526 - val_accuracy: 0.7143\n",
      "Epoch 86/200\n",
      "58/58 [==============================] - 0s 155us/step - loss: 1.3198 - accuracy: 0.4828 - val_loss: 1.1464 - val_accuracy: 0.7143\n",
      "Epoch 87/200\n",
      "58/58 [==============================] - 0s 138us/step - loss: 1.3123 - accuracy: 0.4828 - val_loss: 1.1419 - val_accuracy: 0.7143\n",
      "Epoch 88/200\n",
      "58/58 [==============================] - 0s 164us/step - loss: 1.3053 - accuracy: 0.4828 - val_loss: 1.1390 - val_accuracy: 0.7143\n",
      "Epoch 89/200\n",
      "58/58 [==============================] - 0s 147us/step - loss: 1.2971 - accuracy: 0.4828 - val_loss: 1.1313 - val_accuracy: 0.7143\n",
      "Epoch 90/200\n",
      "58/58 [==============================] - 0s 135us/step - loss: 1.2904 - accuracy: 0.4828 - val_loss: 1.1254 - val_accuracy: 0.7143\n",
      "Epoch 91/200\n",
      "58/58 [==============================] - 0s 156us/step - loss: 1.2831 - accuracy: 0.4828 - val_loss: 1.1190 - val_accuracy: 0.7143\n",
      "Epoch 92/200\n",
      "58/58 [==============================] - 0s 156us/step - loss: 1.2757 - accuracy: 0.4828 - val_loss: 1.1125 - val_accuracy: 0.7143\n",
      "Epoch 93/200\n",
      "58/58 [==============================] - 0s 172us/step - loss: 1.2692 - accuracy: 0.4828 - val_loss: 1.1072 - val_accuracy: 0.7143\n",
      "Epoch 94/200\n",
      "58/58 [==============================] - 0s 156us/step - loss: 1.2611 - accuracy: 0.4828 - val_loss: 1.1027 - val_accuracy: 0.7143\n",
      "Epoch 95/200\n",
      "58/58 [==============================] - 0s 156us/step - loss: 1.2547 - accuracy: 0.5000 - val_loss: 1.0979 - val_accuracy: 0.7143\n",
      "Epoch 96/200\n",
      "58/58 [==============================] - 0s 173us/step - loss: 1.2469 - accuracy: 0.5000 - val_loss: 1.0950 - val_accuracy: 0.7143\n",
      "Epoch 97/200\n",
      "58/58 [==============================] - 0s 155us/step - loss: 1.2398 - accuracy: 0.5000 - val_loss: 1.0859 - val_accuracy: 0.7143\n",
      "Epoch 98/200\n",
      "58/58 [==============================] - 0s 164us/step - loss: 1.2329 - accuracy: 0.5000 - val_loss: 1.0817 - val_accuracy: 0.7143\n",
      "Epoch 99/200\n",
      "58/58 [==============================] - 0s 156us/step - loss: 1.2258 - accuracy: 0.5000 - val_loss: 1.0753 - val_accuracy: 0.5714\n",
      "Epoch 100/200\n",
      "58/58 [==============================] - 0s 139us/step - loss: 1.2187 - accuracy: 0.5000 - val_loss: 1.0702 - val_accuracy: 0.7143\n",
      "Epoch 101/200\n",
      "58/58 [==============================] - 0s 155us/step - loss: 1.2113 - accuracy: 0.5000 - val_loss: 1.0675 - val_accuracy: 0.7143\n",
      "Epoch 102/200\n",
      "58/58 [==============================] - 0s 156us/step - loss: 1.2039 - accuracy: 0.5172 - val_loss: 1.0639 - val_accuracy: 0.7143\n",
      "Epoch 103/200\n",
      "58/58 [==============================] - 0s 155us/step - loss: 1.1972 - accuracy: 0.5345 - val_loss: 1.0598 - val_accuracy: 0.7143\n",
      "Epoch 104/200\n",
      "58/58 [==============================] - 0s 155us/step - loss: 1.1895 - accuracy: 0.5345 - val_loss: 1.0542 - val_accuracy: 0.7143\n",
      "Epoch 105/200\n",
      "58/58 [==============================] - 0s 156us/step - loss: 1.1822 - accuracy: 0.5172 - val_loss: 1.0474 - val_accuracy: 0.7143\n",
      "Epoch 106/200\n",
      "58/58 [==============================] - 0s 155us/step - loss: 1.1752 - accuracy: 0.5345 - val_loss: 1.0453 - val_accuracy: 0.7143\n",
      "Epoch 107/200\n",
      "58/58 [==============================] - 0s 138us/step - loss: 1.1677 - accuracy: 0.5517 - val_loss: 1.0390 - val_accuracy: 0.7143\n",
      "Epoch 108/200\n",
      "58/58 [==============================] - 0s 156us/step - loss: 1.1605 - accuracy: 0.5517 - val_loss: 1.0420 - val_accuracy: 0.7143\n",
      "Epoch 109/200\n",
      "58/58 [==============================] - 0s 147us/step - loss: 1.1530 - accuracy: 0.5517 - val_loss: 1.0354 - val_accuracy: 0.7143\n",
      "Epoch 110/200\n",
      "58/58 [==============================] - 0s 147us/step - loss: 1.1456 - accuracy: 0.5517 - val_loss: 1.0341 - val_accuracy: 0.7143\n",
      "Epoch 111/200\n",
      "58/58 [==============================] - 0s 156us/step - loss: 1.1382 - accuracy: 0.5690 - val_loss: 1.0254 - val_accuracy: 0.7143\n",
      "Epoch 112/200\n",
      "58/58 [==============================] - 0s 156us/step - loss: 1.1311 - accuracy: 0.5690 - val_loss: 1.0190 - val_accuracy: 0.7143\n",
      "Epoch 113/200\n",
      "58/58 [==============================] - 0s 139us/step - loss: 1.1227 - accuracy: 0.5690 - val_loss: 1.0170 - val_accuracy: 0.7143\n",
      "Epoch 114/200\n",
      "58/58 [==============================] - 0s 156us/step - loss: 1.1159 - accuracy: 0.5690 - val_loss: 1.0170 - val_accuracy: 0.7143\n",
      "Epoch 115/200\n",
      "58/58 [==============================] - 0s 138us/step - loss: 1.1079 - accuracy: 0.5690 - val_loss: 1.0146 - val_accuracy: 0.7143\n",
      "Epoch 116/200\n",
      "58/58 [==============================] - 0s 156us/step - loss: 1.1005 - accuracy: 0.5862 - val_loss: 1.0112 - val_accuracy: 0.7143\n",
      "Epoch 117/200\n",
      "58/58 [==============================] - 0s 139us/step - loss: 1.0934 - accuracy: 0.5862 - val_loss: 1.0061 - val_accuracy: 0.7143\n",
      "Epoch 118/200\n",
      "58/58 [==============================] - 0s 155us/step - loss: 1.0859 - accuracy: 0.5862 - val_loss: 1.0030 - val_accuracy: 0.7143\n",
      "Epoch 119/200\n",
      "58/58 [==============================] - 0s 156us/step - loss: 1.0788 - accuracy: 0.5862 - val_loss: 0.9999 - val_accuracy: 0.7143\n",
      "Epoch 120/200\n",
      "58/58 [==============================] - 0s 156us/step - loss: 1.0711 - accuracy: 0.5862 - val_loss: 0.9979 - val_accuracy: 0.7143\n",
      "Epoch 121/200\n",
      "58/58 [==============================] - 0s 155us/step - loss: 1.0644 - accuracy: 0.5862 - val_loss: 0.9935 - val_accuracy: 0.7143\n",
      "Epoch 122/200\n",
      "58/58 [==============================] - 0s 139us/step - loss: 1.0572 - accuracy: 0.5862 - val_loss: 0.9897 - val_accuracy: 0.7143\n",
      "Epoch 123/200\n",
      "58/58 [==============================] - 0s 172us/step - loss: 1.0502 - accuracy: 0.5862 - val_loss: 0.9860 - val_accuracy: 0.7143\n",
      "Epoch 124/200\n",
      "58/58 [==============================] - 0s 156us/step - loss: 1.0429 - accuracy: 0.5862 - val_loss: 0.9812 - val_accuracy: 0.7143\n",
      "Epoch 125/200\n",
      "58/58 [==============================] - 0s 156us/step - loss: 1.0359 - accuracy: 0.5862 - val_loss: 0.9813 - val_accuracy: 0.7143\n",
      "Epoch 126/200\n",
      "58/58 [==============================] - 0s 156us/step - loss: 1.0297 - accuracy: 0.5862 - val_loss: 0.9796 - val_accuracy: 0.7143\n",
      "Epoch 127/200\n",
      "58/58 [==============================] - 0s 138us/step - loss: 1.0224 - accuracy: 0.5862 - val_loss: 0.9757 - val_accuracy: 0.7143\n",
      "Epoch 128/200\n",
      "58/58 [==============================] - 0s 173us/step - loss: 1.0159 - accuracy: 0.6034 - val_loss: 0.9698 - val_accuracy: 0.7143\n",
      "Epoch 129/200\n",
      "58/58 [==============================] - 0s 156us/step - loss: 1.0095 - accuracy: 0.6034 - val_loss: 0.9660 - val_accuracy: 0.7143\n",
      "Epoch 130/200\n",
      "58/58 [==============================] - 0s 156us/step - loss: 1.0031 - accuracy: 0.6034 - val_loss: 0.9712 - val_accuracy: 0.7143\n",
      "Epoch 131/200\n",
      "58/58 [==============================] - 0s 148us/step - loss: 0.9961 - accuracy: 0.5862 - val_loss: 0.9716 - val_accuracy: 0.7143\n",
      "Epoch 132/200\n",
      "58/58 [==============================] - 0s 155us/step - loss: 0.9903 - accuracy: 0.5690 - val_loss: 0.9604 - val_accuracy: 0.7143\n",
      "Epoch 133/200\n",
      "58/58 [==============================] - 0s 156us/step - loss: 0.9828 - accuracy: 0.5690 - val_loss: 0.9582 - val_accuracy: 0.7143\n",
      "Epoch 134/200\n",
      "58/58 [==============================] - 0s 156us/step - loss: 0.9765 - accuracy: 0.5690 - val_loss: 0.9616 - val_accuracy: 0.7143\n",
      "Epoch 135/200\n",
      "58/58 [==============================] - 0s 138us/step - loss: 0.9701 - accuracy: 0.6034 - val_loss: 0.9603 - val_accuracy: 0.7143\n",
      "Epoch 136/200\n",
      "58/58 [==============================] - 0s 156us/step - loss: 0.9638 - accuracy: 0.6034 - val_loss: 0.9567 - val_accuracy: 0.7143\n",
      "Epoch 137/200\n",
      "58/58 [==============================] - 0s 138us/step - loss: 0.9586 - accuracy: 0.6034 - val_loss: 0.9537 - val_accuracy: 0.7143\n",
      "Epoch 138/200\n",
      "58/58 [==============================] - 0s 173us/step - loss: 0.9518 - accuracy: 0.6034 - val_loss: 0.9531 - val_accuracy: 0.7143\n",
      "Epoch 139/200\n",
      "58/58 [==============================] - 0s 156us/step - loss: 0.9456 - accuracy: 0.6034 - val_loss: 0.9508 - val_accuracy: 0.7143\n",
      "Epoch 140/200\n",
      "58/58 [==============================] - 0s 146us/step - loss: 0.9401 - accuracy: 0.6034 - val_loss: 0.9504 - val_accuracy: 0.7143\n",
      "Epoch 141/200\n",
      "58/58 [==============================] - 0s 148us/step - loss: 0.9340 - accuracy: 0.6034 - val_loss: 0.9490 - val_accuracy: 0.7143\n",
      "Epoch 142/200\n",
      "58/58 [==============================] - 0s 173us/step - loss: 0.9288 - accuracy: 0.6034 - val_loss: 0.9429 - val_accuracy: 0.7143\n",
      "Epoch 143/200\n",
      "58/58 [==============================] - 0s 155us/step - loss: 0.9220 - accuracy: 0.6034 - val_loss: 0.9416 - val_accuracy: 0.7143\n",
      "Epoch 144/200\n",
      "58/58 [==============================] - 0s 138us/step - loss: 0.9165 - accuracy: 0.6034 - val_loss: 0.9403 - val_accuracy: 0.7143\n",
      "Epoch 145/200\n",
      "58/58 [==============================] - 0s 173us/step - loss: 0.9104 - accuracy: 0.6034 - val_loss: 0.9371 - val_accuracy: 0.7143\n",
      "Epoch 146/200\n",
      "58/58 [==============================] - 0s 156us/step - loss: 0.9050 - accuracy: 0.6034 - val_loss: 0.9374 - val_accuracy: 0.7143\n",
      "Epoch 147/200\n",
      "58/58 [==============================] - 0s 173us/step - loss: 0.8987 - accuracy: 0.6207 - val_loss: 0.9369 - val_accuracy: 0.7143\n",
      "Epoch 148/200\n",
      "58/58 [==============================] - 0s 155us/step - loss: 0.8933 - accuracy: 0.6207 - val_loss: 0.9348 - val_accuracy: 0.7143\n",
      "Epoch 149/200\n",
      "58/58 [==============================] - 0s 155us/step - loss: 0.8872 - accuracy: 0.6207 - val_loss: 0.9304 - val_accuracy: 0.7143\n",
      "Epoch 150/200\n",
      "58/58 [==============================] - 0s 156us/step - loss: 0.8820 - accuracy: 0.6034 - val_loss: 0.9268 - val_accuracy: 0.7143\n",
      "Epoch 151/200\n",
      "58/58 [==============================] - 0s 156us/step - loss: 0.8764 - accuracy: 0.6379 - val_loss: 0.9243 - val_accuracy: 0.7143\n",
      "Epoch 152/200\n",
      "58/58 [==============================] - 0s 155us/step - loss: 0.8714 - accuracy: 0.6379 - val_loss: 0.9160 - val_accuracy: 0.7143\n",
      "Epoch 153/200\n",
      "58/58 [==============================] - 0s 156us/step - loss: 0.8650 - accuracy: 0.6379 - val_loss: 0.9172 - val_accuracy: 0.7143\n",
      "Epoch 154/200\n",
      "58/58 [==============================] - 0s 156us/step - loss: 0.8592 - accuracy: 0.6724 - val_loss: 0.9107 - val_accuracy: 0.7143\n",
      "Epoch 155/200\n",
      "58/58 [==============================] - 0s 139us/step - loss: 0.8533 - accuracy: 0.6552 - val_loss: 0.9041 - val_accuracy: 0.8571\n",
      "Epoch 156/200\n",
      "58/58 [==============================] - 0s 173us/step - loss: 0.8481 - accuracy: 0.6552 - val_loss: 0.9023 - val_accuracy: 0.8571\n",
      "Epoch 157/200\n",
      "58/58 [==============================] - 0s 173us/step - loss: 0.8416 - accuracy: 0.6552 - val_loss: 0.8995 - val_accuracy: 0.8571\n",
      "Epoch 158/200\n",
      "58/58 [==============================] - 0s 173us/step - loss: 0.8354 - accuracy: 0.6897 - val_loss: 0.8969 - val_accuracy: 0.8571\n",
      "Epoch 159/200\n",
      "58/58 [==============================] - 0s 155us/step - loss: 0.8305 - accuracy: 0.6897 - val_loss: 0.9003 - val_accuracy: 0.8571\n",
      "Epoch 160/200\n",
      "58/58 [==============================] - 0s 146us/step - loss: 0.8240 - accuracy: 0.7069 - val_loss: 0.8935 - val_accuracy: 0.8571\n",
      "Epoch 161/200\n",
      "58/58 [==============================] - 0s 130us/step - loss: 0.8182 - accuracy: 0.7069 - val_loss: 0.8899 - val_accuracy: 0.8571\n",
      "Epoch 162/200\n",
      "58/58 [==============================] - 0s 156us/step - loss: 0.8131 - accuracy: 0.7069 - val_loss: 0.8891 - val_accuracy: 0.8571\n",
      "Epoch 163/200\n",
      "58/58 [==============================] - 0s 155us/step - loss: 0.8070 - accuracy: 0.7241 - val_loss: 0.8870 - val_accuracy: 0.8571\n",
      "Epoch 164/200\n",
      "58/58 [==============================] - 0s 155us/step - loss: 0.8021 - accuracy: 0.7241 - val_loss: 0.8863 - val_accuracy: 0.8571\n",
      "Epoch 165/200\n",
      "58/58 [==============================] - 0s 138us/step - loss: 0.7959 - accuracy: 0.7241 - val_loss: 0.8828 - val_accuracy: 0.8571\n",
      "Epoch 166/200\n",
      "58/58 [==============================] - 0s 155us/step - loss: 0.7904 - accuracy: 0.7241 - val_loss: 0.8765 - val_accuracy: 0.8571\n",
      "Epoch 167/200\n",
      "58/58 [==============================] - 0s 155us/step - loss: 0.7853 - accuracy: 0.7241 - val_loss: 0.8764 - val_accuracy: 0.8571\n",
      "Epoch 168/200\n",
      "58/58 [==============================] - 0s 156us/step - loss: 0.7795 - accuracy: 0.7241 - val_loss: 0.8745 - val_accuracy: 0.8571\n",
      "Epoch 169/200\n",
      "58/58 [==============================] - 0s 156us/step - loss: 0.7749 - accuracy: 0.7241 - val_loss: 0.8765 - val_accuracy: 0.8571\n",
      "Epoch 170/200\n",
      "58/58 [==============================] - 0s 156us/step - loss: 0.7690 - accuracy: 0.7241 - val_loss: 0.8709 - val_accuracy: 0.8571\n",
      "Epoch 171/200\n",
      "58/58 [==============================] - 0s 153us/step - loss: 0.7638 - accuracy: 0.7241 - val_loss: 0.8653 - val_accuracy: 0.8571\n",
      "Epoch 172/200\n",
      "58/58 [==============================] - 0s 156us/step - loss: 0.7588 - accuracy: 0.7241 - val_loss: 0.8640 - val_accuracy: 0.8571\n",
      "Epoch 173/200\n",
      "58/58 [==============================] - 0s 156us/step - loss: 0.7536 - accuracy: 0.7241 - val_loss: 0.8637 - val_accuracy: 0.8571\n",
      "Epoch 174/200\n",
      "58/58 [==============================] - 0s 173us/step - loss: 0.7486 - accuracy: 0.7241 - val_loss: 0.8640 - val_accuracy: 0.8571\n",
      "Epoch 175/200\n",
      "58/58 [==============================] - 0s 173us/step - loss: 0.7437 - accuracy: 0.7241 - val_loss: 0.8635 - val_accuracy: 0.8571\n",
      "Epoch 176/200\n",
      "58/58 [==============================] - 0s 138us/step - loss: 0.7380 - accuracy: 0.7241 - val_loss: 0.8585 - val_accuracy: 0.8571\n",
      "Epoch 177/200\n",
      "58/58 [==============================] - 0s 173us/step - loss: 0.7335 - accuracy: 0.7241 - val_loss: 0.8548 - val_accuracy: 0.8571\n",
      "Epoch 178/200\n",
      "58/58 [==============================] - 0s 156us/step - loss: 0.7281 - accuracy: 0.7241 - val_loss: 0.8519 - val_accuracy: 0.8571\n",
      "Epoch 179/200\n",
      "58/58 [==============================] - 0s 148us/step - loss: 0.7234 - accuracy: 0.7414 - val_loss: 0.8538 - val_accuracy: 0.8571\n",
      "Epoch 180/200\n",
      "58/58 [==============================] - 0s 181us/step - loss: 0.7184 - accuracy: 0.7414 - val_loss: 0.8529 - val_accuracy: 0.8571\n",
      "Epoch 181/200\n",
      "58/58 [==============================] - 0s 156us/step - loss: 0.7138 - accuracy: 0.7414 - val_loss: 0.8530 - val_accuracy: 0.8571\n",
      "Epoch 182/200\n",
      "58/58 [==============================] - 0s 155us/step - loss: 0.7087 - accuracy: 0.7586 - val_loss: 0.8447 - val_accuracy: 0.8571\n",
      "Epoch 183/200\n",
      "58/58 [==============================] - 0s 156us/step - loss: 0.7032 - accuracy: 0.7586 - val_loss: 0.8388 - val_accuracy: 0.8571\n",
      "Epoch 184/200\n",
      "58/58 [==============================] - 0s 156us/step - loss: 0.6985 - accuracy: 0.7586 - val_loss: 0.8403 - val_accuracy: 0.8571\n",
      "Epoch 185/200\n",
      "58/58 [==============================] - 0s 156us/step - loss: 0.6933 - accuracy: 0.7586 - val_loss: 0.8340 - val_accuracy: 0.8571\n",
      "Epoch 186/200\n",
      "58/58 [==============================] - 0s 138us/step - loss: 0.6887 - accuracy: 0.7586 - val_loss: 0.8340 - val_accuracy: 0.8571\n",
      "Epoch 187/200\n",
      "58/58 [==============================] - 0s 173us/step - loss: 0.6839 - accuracy: 0.7586 - val_loss: 0.8322 - val_accuracy: 0.8571\n",
      "Epoch 188/200\n",
      "58/58 [==============================] - 0s 156us/step - loss: 0.6787 - accuracy: 0.7586 - val_loss: 0.8261 - val_accuracy: 0.8571\n",
      "Epoch 189/200\n",
      "58/58 [==============================] - 0s 155us/step - loss: 0.6744 - accuracy: 0.7586 - val_loss: 0.8246 - val_accuracy: 0.8571\n",
      "Epoch 190/200\n",
      "58/58 [==============================] - 0s 155us/step - loss: 0.6697 - accuracy: 0.7586 - val_loss: 0.8218 - val_accuracy: 0.8571\n",
      "Epoch 191/200\n",
      "58/58 [==============================] - 0s 190us/step - loss: 0.6657 - accuracy: 0.7586 - val_loss: 0.8170 - val_accuracy: 0.7143\n",
      "Epoch 192/200\n",
      "58/58 [==============================] - 0s 138us/step - loss: 0.6615 - accuracy: 0.7586 - val_loss: 0.8119 - val_accuracy: 0.8571\n",
      "Epoch 193/200\n",
      "58/58 [==============================] - 0s 173us/step - loss: 0.6564 - accuracy: 0.7586 - val_loss: 0.8101 - val_accuracy: 0.8571\n",
      "Epoch 194/200\n",
      "58/58 [==============================] - 0s 173us/step - loss: 0.6527 - accuracy: 0.7586 - val_loss: 0.8100 - val_accuracy: 0.8571\n",
      "Epoch 195/200\n",
      "58/58 [==============================] - 0s 173us/step - loss: 0.6478 - accuracy: 0.7759 - val_loss: 0.8061 - val_accuracy: 0.8571\n",
      "Epoch 196/200\n",
      "58/58 [==============================] - 0s 156us/step - loss: 0.6437 - accuracy: 0.7931 - val_loss: 0.8066 - val_accuracy: 0.8571\n",
      "Epoch 197/200\n",
      "58/58 [==============================] - 0s 207us/step - loss: 0.6394 - accuracy: 0.7931 - val_loss: 0.8053 - val_accuracy: 0.8571\n",
      "Epoch 198/200\n",
      "58/58 [==============================] - 0s 165us/step - loss: 0.6356 - accuracy: 0.7931 - val_loss: 0.8049 - val_accuracy: 0.8571\n",
      "Epoch 199/200\n",
      "58/58 [==============================] - 0s 155us/step - loss: 0.6319 - accuracy: 0.7931 - val_loss: 0.7982 - val_accuracy: 0.8571\n",
      "Epoch 200/200\n",
      "58/58 [==============================] - 0s 145us/step - loss: 0.6276 - accuracy: 0.7931 - val_loss: 0.7965 - val_accuracy: 0.8571\n"
     ]
    }
   ],
   "source": [
    "model_history=classifier.fit(X_train,y_train,validation_split=0.10,batch_size=5,epochs=200)\n"
   ]
  },
  {
   "cell_type": "code",
   "execution_count": 76,
   "metadata": {},
   "outputs": [
    {
     "name": "stdout",
     "output_type": "stream",
     "text": [
      "dict_keys(['val_loss', 'val_accuracy', 'loss', 'accuracy'])\n"
     ]
    }
   ],
   "source": [
    "# list all data in history\n",
    "\n",
    "print(model_history.history.keys())\n",
    "# summarize history for accuracy\n"
   ]
  },
  {
   "cell_type": "code",
   "execution_count": 77,
   "metadata": {},
   "outputs": [
    {
     "data": {
      "image/png": "[encoded data removed]",
      "text/plain": [
       "<Figure size 432x288 with 1 Axes>"
      ]
     },
     "metadata": {
      "needs_background": "light"
     },
     "output_type": "display_data"
    }
   ],
   "source": [
    "# summarize history for loss\n",
    "plt.plot(model_history.history['loss'])\n",
    "plt.plot(model_history.history['val_loss'])\n",
    "plt.title('model loss')\n",
    "plt.ylabel('loss')\n",
    "plt.xlabel('epoch')\n",
    "plt.legend(['train', 'test'], loc='upper left')\n",
    "plt.show()"
   ]
  },
  {
   "cell_type": "markdown",
   "metadata": {},
   "source": [
    "### Save ANN Model"
   ]
  },
  {
   "cell_type": "code",
   "execution_count": 78,
   "metadata": {},
   "outputs": [],
   "source": [
    "\n",
    "pickle.dump(classifier,open('Fertlizer_Predict_ANN.pkl','wb'))"
   ]
  },
  {
   "cell_type": "code",
   "execution_count": 79,
   "metadata": {},
   "outputs": [],
   "source": [
    "model=pickle.load(open('Fertlizer_Predict_ANN.pkl','rb'))"
   ]
  },
  {
   "cell_type": "code",
   "execution_count": null,
   "metadata": {},
   "outputs": [],
   "source": []
  }
 ],
 "metadata": {
  "kernelspec": {
   "display_name": "Python 3",
   "language": "python",
   "name": "python3"
  },
  "language_info": {
   "codemirror_mode": {
    "name": "ipython",
    "version": 3
   },
   "file_extension": ".py",
   "mimetype": "text/x-python",
   "name": "python",
   "nbconvert_exporter": "python",
   "pygments_lexer": "ipython3",
   "version": "3.7.3"
  }
 },
 "nbformat": 4,
 "nbformat_minor": 4
}
